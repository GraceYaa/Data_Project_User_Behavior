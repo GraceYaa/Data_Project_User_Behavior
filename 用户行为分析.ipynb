{
 "cells": [
  {
   "cell_type": "markdown",
   "metadata": {},
   "source": [
    "# 用户行为分析"
   ]
  },
  {
   "cell_type": "markdown",
   "metadata": {},
   "source": [
    "\n",
    "想要进行精细化运营，围绕的中心永远是用户。用户研究的常用方法有：情境调查、用户访谈、问卷调查、A/B测试、可用性测试与用户行为分析。其中用户行为分析是用户研究的最有效方法之一。\n",
    "## 什么是用户行为分析\n",
    "### 了解用户行为分析\n",
    "用户行为分析是对用户在产品上的产生的行为及行为背后的数据进行分析，通过构建用户行为模型和用户画像，来改变产品决策，实现精细化运营，指导业务增长。\n",
    "\n",
    "在产品运营过程中，对用户行为的数据进行收集、存储、跟踪、分析与应用等，可以找到实现用户自增长的病毒因素、群体特征与目标用户。从而深度还原用户使用场景、操作规律、访问路径及行为特点等。\n",
    "### 用户行为分析的目的\n",
    "对于互联网金融、新零售、供应链、在线教育、银行、证券等行业的产品而言，以数据为驱动的用户行为分析尤为重要。用户行为分析的目的是：推动产品迭代、实现精准营销，提供定制服务，驱动产品决策等。\n",
    "\n",
    "主要体现在以下几个方面：\n",
    "- 对产品而言，帮助验证产品的可行性，研究产品决策，清楚地了解用户的行为习惯，并找出产品的缺陷，以便需求的迭代与优化。\n",
    "- 对设计而言，帮助增加体验的友好性，匹配用户情感，细腻地贴合用户的个性服务，并发现交互的不足，以便设计的完善与改进。\n",
    "- 对运营而言，帮助裂变增长的有效性，实现精准营销，全面地挖掘用户的使用场景，并分析运营的问题，以便决策的转变与调整。"
   ]
  },
  {
   "cell_type": "markdown",
   "metadata": {},
   "source": [
    "### 用户行为分析指标\n",
    "对用户行为数据进行分析，关键是找到一个衡量数据的指标。根据用户行为表现，可以细分多个指标，主要分为三类：黏性指标、活跃指标和产出指标。\n",
    "\n",
    "- 粘性指标：主要关注用户周期内持续访问的情况，比如新用户数与比例、活跃用户数与比例、用户转化率、用户留存率、用户流失率、用户访问率。\n",
    "- 活跃指标：主要考察的是用户访问的参与度，比如活跃用户、新增用户、回访用户、流失用户、平均停留时长、使用频率等。\n",
    "- 产出指标：主要衡量用户创造的直接价值输出，比如页面浏览数PV、独立访客数UV、点击次数、消费频次、消费金额等。\n",
    "\n",
    "这些指标细分的目的是指导运营决策，即根据不同的指标去优化与调整运营策略。简而言之，用户行为分析指标细分的根本目的有：一是增加用户的粘性，提升用户的认知度；二是促进用户的活跃，诱导用户的参与度；三是提高用户的价值，培养用户的忠诚度。"
   ]
  },
  {
   "cell_type": "markdown",
   "metadata": {},
   "source": [
    "### 实施用户行为分析\n",
    "确定好用户行为分析指标后，我们可以借助一些模型对用户行为的数据进行定性和定量的分析。\n",
    "\n",
    "常用的分析模型有：\n",
    "- 行为事件分析\n",
    "- 用户留存分析\n",
    "- 漏斗模型分析\n",
    "- 行为路径分析\n",
    "- 福格模型分析\n",
    "\n",
    "#### 行为事件分析\n",
    "行为事件分析是根据运营关键指标对用户特定事件进行分析。通过追踪或记录用户行为事件，可以快速的了解到事件的趋势走向和用户的完成情况。\n",
    "\n",
    "作用：主要是解决用户是谁，从哪里来，什么时候来，干了什么事情，如何做的，归纳总结即为事件的定义遵循5W原则：Who、When、Where、What、How。主要用于研究某行为事件的发生对企业组织价值的影响以及影响程度。\n",
    "\n",
    "\n",
    "\n",
    "#### 用户留存分析\n",
    "用户留存分析是一种用来分析用户参与情况与活跃程度的模型。通过留存量和留存率，可以了解用户的留存和流失状况。比如用次日留存、周留存、月留存等指标来衡量产品的人气或粘度。\n",
    "\n",
    "作用：\n",
    "\n",
    "用户留存一般符合40-20-10法则，即新用户的次日留存应该大于40%，周留存大于20%，月留存大于10%才符合业务标准。我们做用户留存分析主要验证是否达到既定的运营目标，进而影响下一步的产品决策。\n",
    "\n",
    "#### 漏斗模型分析\n",
    "漏斗模型分析是用户在使用产品过程中，描述各个阶段中关键环节的用户转化和流失率情况。比如在日常活动运营中，通过确定各个环节的流失率，分析用户怎么流失、为什么流失、在哪里流失。找到需要改进的环节，要重点关注，并采取有效的措施来提升整体转化率。\n",
    "\n",
    "作用：\n",
    "\n",
    "漏斗模型分析可以验证整个流程的设计是否合理。通过对各环节相关转化率的比较，可以发现运营活动中哪些环节的转化率没有达到预期指标，从而发现问题所在，并找到优化方向。\n",
    "\n",
    "#### 行为路径分析\n",
    "行为路径分析就是分析用户在产品使用过程中的访问路径。通过对行为路径的数据分析，可以发现用户最常用的功能和使用路径。并从页面的多维度分析，追踪用户转化路径，提升产品用户体验。\n",
    "不管是产品冷启动，还是日常活动营销，做行为路径分析首先要梳理用户行为轨迹。用户行为轨迹包括认知、熟悉、试用、使用到忠诚等。轨迹背后反映的是用户特征，这些特征对产品运营有重要的参考价值。\n",
    "\n",
    "在分析用户行为路径时，我们会发现用户实际的行为路径与期望的行为路径有一定的偏差。这个偏差就是产品可能存在的问题，需要及时对产品进行优化，找到缩短路径的空间。\n",
    "\n",
    "#### 福格模型分析\n",
    "福格行为模型是用来研究用户行为原因的分析模型。福格行为模型用公式来简化就是B=MAT，即B=MAT。B代表行为，M代表动机，A代表能力，T代表触发。它认为要让一个行为发生，必须同时具备三个元素：动机、能力和触发器。因此可以借助福格行为模型来评估产品的合理性和能否达到预期目标。\n",
    "\n",
    "\n"
   ]
  },
  {
   "cell_type": "markdown",
   "metadata": {},
   "source": [
    "### AISAS模型\n",
    "用户行为分析模型其实也是一种AISAS模型：Attention注意、Interest兴趣、Search搜索、Action行动、Share分享，也影响了用户行为决策。\n",
    "- Attention\n",
    "Attention是指我们要想获得一定的业绩，就要首先吸引客户的注意。如果没有客户的话，那后面的一切营销活动都会没有任何用武之地。想要吸引客户的注意，我们可以从多方面来下手，比如说通过互动营销这种办法来吸引到店消费。\n",
    "- Interest\n",
    "吸引住了客户之后，我们要想真正的留住这些客户，就要让客户对我们的产品产生一定的兴趣，让他们发自内心的想要购买我们的产品。这就要求我们在事先要对目标群体进行一定的市场调查，了解目标群体的痒点。\n",
    "- Search\n",
    "当目标群体对我们产生一定的兴趣之后，他们可能就会通过一些线上或者线下的渠道来搜集我们产品的信息，这个阶段就是搜索阶段。如果要想使客户对我们留下较好的印象，线上要注意搜索引擎优化，线下要做到优化服务、提升口碑。\n",
    "\n",
    "- Action\n",
    "如果客户经过一系列的调查之后对公司的产品较为满意的话，就会直接进行消费。在这个阶段里面促进订单成交的最主要的环节便是销售环节，所以会对销售能力有着较高的要求。\n",
    "- Share\n",
    "如果客户使用该企业的产品获得了较好的使用感受，他可能会和周围的人进行分享，向周围的人推荐该企业的产品，这也就是所谓的口碑传播。我们一定要重视口碑传播的重要作用，它的说服力能够秒杀一切营销活动。\n",
    "\n",
    "\n",
    "\n",
    "\n"
   ]
  },
  {
   "cell_type": "markdown",
   "metadata": {},
   "source": [
    "## 数据集描述"
   ]
  },
  {
   "cell_type": "markdown",
   "metadata": {},
   "source": [
    " | 字段 | 描述 |\n",
    " | ------------ |:-------:| \n",
    " | user_id  | 用户ID |\n",
    " | item_id  | 商品ID  |\n",
    " | behavior_type  | 用户行为类别 |\n",
    " | user_geohash  | 用户地理位置 |\n",
    " | item_category  | 商品所属品类 |\n",
    " | time  | 用户行为发生的时间 |\n",
    " \n",
    " 其中，用户行为类别包含点击、收藏、加购物车、支付四种类别，分别用数字1，2，3，4表示"
   ]
  },
  {
   "cell_type": "markdown",
   "metadata": {
    "heading_collapsed": true
   },
   "source": [
    "## 明确分析目的\n",
    "基于淘宝app平台数据，通过相关指标对用户行为进行分析，推动产品迭代、实现精准营销，提供定制服务，驱动产品决策等。\n",
    "\n",
    "### 获得相关指标：\n",
    "1. 总量\n",
    "2. 日pv\n",
    "3. 日uv\n",
    "\n",
    "### 用户消费行为分析\n",
    "4. 付费率\n",
    "5. 复购率\n",
    "\n",
    "### 通过漏斗模型进行用户行为分析\n",
    "\n",
    "### RFM模型分析用户价值\n"
   ]
  },
  {
   "cell_type": "markdown",
   "metadata": {},
   "source": [
    "## 理解数据"
   ]
  },
  {
   "cell_type": "code",
   "execution_count": null,
   "metadata": {},
   "outputs": [],
   "source": [
    "# 导入相关库\n",
    "import numpy as np\n",
    "import pandas as pd\n",
    "import matplotlib.pyplot as plt\n",
    "import seaborn as sns\n",
    "import plotly as py\n",
    "import plotly.graph_objects as go\n",
    "import csv\n",
    "import os\n",
    "\n",
    "pyplot = py.offline.plot\n",
    "\n",
    "os.getcwd()"
   ]
  },
  {
   "cell_type": "code",
   "execution_count": 202,
   "metadata": {},
   "outputs": [],
   "source": [
    "import warnings\n",
    "plt.rcParams[\"font.family\"] = \"SimHei\"\n",
    "plt.rcParams[\"axes.unicode_minus\"] = False\n",
    "plt.rcParams.update({\"font.size\":15})\n",
    "plt.style.use(\"seaborn-darkgrid\")\n",
    "\n",
    "warnings.filterwarnings(\"ignore\")"
   ]
  },
  {
   "cell_type": "code",
   "execution_count": 4,
   "metadata": {},
   "outputs": [],
   "source": [
    "os.chdir(r\"F:\\DataSets\\user_behavior_data_on_taobao_app\")\n",
    "\n",
    "# 数据读入\n",
    "dt = pd.read_csv(\"./tianchi_mobile_recommend_train_user.csv\", dtype=str)"
   ]
  },
  {
   "cell_type": "code",
   "execution_count": 5,
   "metadata": {},
   "outputs": [
    {
     "data": {
      "text/plain": [
       "(12256906, 6)"
      ]
     },
     "execution_count": 5,
     "metadata": {},
     "output_type": "execute_result"
    }
   ],
   "source": [
    "# 查看数据情况\n",
    "dt.shape"
   ]
  },
  {
   "cell_type": "code",
   "execution_count": 6,
   "metadata": {
    "scrolled": true
   },
   "outputs": [
    {
     "data": {
      "text/plain": [
       "Index(['user_id', 'item_id', 'behavior_type', 'user_geohash', 'item_category',\n",
       "       'time'],\n",
       "      dtype='object')"
      ]
     },
     "execution_count": 6,
     "metadata": {},
     "output_type": "execute_result"
    }
   ],
   "source": [
    "dt.columns"
   ]
  },
  {
   "cell_type": "code",
   "execution_count": 7,
   "metadata": {},
   "outputs": [
    {
     "data": {
      "text/html": [
       "<div>\n",
       "<style scoped>\n",
       "    .dataframe tbody tr th:only-of-type {\n",
       "        vertical-align: middle;\n",
       "    }\n",
       "\n",
       "    .dataframe tbody tr th {\n",
       "        vertical-align: top;\n",
       "    }\n",
       "\n",
       "    .dataframe thead th {\n",
       "        text-align: right;\n",
       "    }\n",
       "</style>\n",
       "<table border=\"1\" class=\"dataframe\">\n",
       "  <thead>\n",
       "    <tr style=\"text-align: right;\">\n",
       "      <th></th>\n",
       "      <th>user_id</th>\n",
       "      <th>item_id</th>\n",
       "      <th>behavior_type</th>\n",
       "      <th>user_geohash</th>\n",
       "      <th>item_category</th>\n",
       "      <th>time</th>\n",
       "    </tr>\n",
       "  </thead>\n",
       "  <tbody>\n",
       "    <tr>\n",
       "      <th>1658950</th>\n",
       "      <td>5838287</td>\n",
       "      <td>11664497</td>\n",
       "      <td>1</td>\n",
       "      <td>9q9mas6</td>\n",
       "      <td>13713</td>\n",
       "      <td>2014-12-06 15</td>\n",
       "    </tr>\n",
       "    <tr>\n",
       "      <th>12147758</th>\n",
       "      <td>27068656</td>\n",
       "      <td>215433552</td>\n",
       "      <td>1</td>\n",
       "      <td>NaN</td>\n",
       "      <td>4625</td>\n",
       "      <td>2014-11-25 00</td>\n",
       "    </tr>\n",
       "    <tr>\n",
       "      <th>5986570</th>\n",
       "      <td>22060610</td>\n",
       "      <td>239655940</td>\n",
       "      <td>1</td>\n",
       "      <td>NaN</td>\n",
       "      <td>769</td>\n",
       "      <td>2014-12-08 11</td>\n",
       "    </tr>\n",
       "    <tr>\n",
       "      <th>5004260</th>\n",
       "      <td>127909205</td>\n",
       "      <td>142480396</td>\n",
       "      <td>1</td>\n",
       "      <td>NaN</td>\n",
       "      <td>6130</td>\n",
       "      <td>2014-12-15 22</td>\n",
       "    </tr>\n",
       "    <tr>\n",
       "      <th>7838152</th>\n",
       "      <td>37357777</td>\n",
       "      <td>253737813</td>\n",
       "      <td>1</td>\n",
       "      <td>NaN</td>\n",
       "      <td>3035</td>\n",
       "      <td>2014-12-04 19</td>\n",
       "    </tr>\n",
       "  </tbody>\n",
       "</table>\n",
       "</div>"
      ],
      "text/plain": [
       "            user_id    item_id behavior_type user_geohash item_category  \\\n",
       "1658950     5838287   11664497             1      9q9mas6         13713   \n",
       "12147758   27068656  215433552             1          NaN          4625   \n",
       "5986570    22060610  239655940             1          NaN           769   \n",
       "5004260   127909205  142480396             1          NaN          6130   \n",
       "7838152    37357777  253737813             1          NaN          3035   \n",
       "\n",
       "                   time  \n",
       "1658950   2014-12-06 15  \n",
       "12147758  2014-11-25 00  \n",
       "5986570   2014-12-08 11  \n",
       "5004260   2014-12-15 22  \n",
       "7838152   2014-12-04 19  "
      ]
     },
     "execution_count": 7,
     "metadata": {},
     "output_type": "execute_result"
    }
   ],
   "source": [
    "dt.sample(5)"
   ]
  },
  {
   "cell_type": "markdown",
   "metadata": {},
   "source": [
    "## 数据清洗"
   ]
  },
  {
   "cell_type": "markdown",
   "metadata": {},
   "source": [
    "### 缺失值处理\n",
    "#### 统计缺失值"
   ]
  },
  {
   "cell_type": "markdown",
   "metadata": {},
   "source": [
    "统计缺失率"
   ]
  },
  {
   "cell_type": "code",
   "execution_count": 8,
   "metadata": {
    "scrolled": true
   },
   "outputs": [
    {
     "data": {
      "text/plain": [
       "user_id          0.00000\n",
       "item_id          0.00000\n",
       "behavior_type    0.00000\n",
       "user_geohash     0.68001\n",
       "item_category    0.00000\n",
       "time             0.00000\n",
       "dtype: float64"
      ]
     },
     "execution_count": 8,
     "metadata": {},
     "output_type": "execute_result"
    }
   ],
   "source": [
    "# 统计缺失率\n",
    "dt.apply(lambda x: sum(x.isnull()) / len(x), axis=0)"
   ]
  },
  {
   "cell_type": "code",
   "execution_count": 9,
   "metadata": {},
   "outputs": [
    {
     "data": {
      "text/plain": [
       "8334824"
      ]
     },
     "execution_count": 9,
     "metadata": {},
     "output_type": "execute_result"
    }
   ],
   "source": [
    "dt.user_geohash.isnull().sum()"
   ]
  },
  {
   "cell_type": "markdown",
   "metadata": {},
   "source": [
    "从统计结果得知，存在缺失值的字段为user_geohash，缺失率为0.68001,共缺失8334824条，暂不做处理"
   ]
  },
  {
   "cell_type": "markdown",
   "metadata": {},
   "source": [
    "### 日期时间数据处理\n",
    "从抽样的5份数据看出，time字段包含日期及小时，这儿对日期与小时作拆分"
   ]
  },
  {
   "cell_type": "code",
   "execution_count": 10,
   "metadata": {},
   "outputs": [
    {
     "data": {
      "text/html": [
       "<div>\n",
       "<style scoped>\n",
       "    .dataframe tbody tr th:only-of-type {\n",
       "        vertical-align: middle;\n",
       "    }\n",
       "\n",
       "    .dataframe tbody tr th {\n",
       "        vertical-align: top;\n",
       "    }\n",
       "\n",
       "    .dataframe thead th {\n",
       "        text-align: right;\n",
       "    }\n",
       "</style>\n",
       "<table border=\"1\" class=\"dataframe\">\n",
       "  <thead>\n",
       "    <tr style=\"text-align: right;\">\n",
       "      <th></th>\n",
       "      <th>user_id</th>\n",
       "      <th>item_id</th>\n",
       "      <th>behavior_type</th>\n",
       "      <th>user_geohash</th>\n",
       "      <th>item_category</th>\n",
       "      <th>time</th>\n",
       "      <th>date</th>\n",
       "      <th>hour</th>\n",
       "    </tr>\n",
       "  </thead>\n",
       "  <tbody>\n",
       "    <tr>\n",
       "      <th>8914805</th>\n",
       "      <td>8909639</td>\n",
       "      <td>56156672</td>\n",
       "      <td>1</td>\n",
       "      <td>95qoom0</td>\n",
       "      <td>12189</td>\n",
       "      <td>2014-12-11 14</td>\n",
       "      <td>2014-12-11</td>\n",
       "      <td>14</td>\n",
       "    </tr>\n",
       "  </tbody>\n",
       "</table>\n",
       "</div>"
      ],
      "text/plain": [
       "         user_id   item_id behavior_type user_geohash item_category  \\\n",
       "8914805  8909639  56156672             1      95qoom0         12189   \n",
       "\n",
       "                  time        date hour  \n",
       "8914805  2014-12-11 14  2014-12-11   14  "
      ]
     },
     "execution_count": 10,
     "metadata": {},
     "output_type": "execute_result"
    }
   ],
   "source": [
    "# 拆分time\n",
    "dt[\"date\"] = dt[\"time\"].str[0:10].str.strip()\n",
    "dt[\"hour\"] = dt[\"time\"].str[11:].str.strip()\n",
    "dt.sample()"
   ]
  },
  {
   "cell_type": "markdown",
   "metadata": {},
   "source": [
    "### 更改数据类型"
   ]
  },
  {
   "cell_type": "code",
   "execution_count": 11,
   "metadata": {},
   "outputs": [
    {
     "name": "stdout",
     "output_type": "stream",
     "text": [
      "<class 'pandas.core.frame.DataFrame'>\n",
      "RangeIndex: 12256906 entries, 0 to 12256905\n",
      "Data columns (total 8 columns):\n",
      "user_id          object\n",
      "item_id          object\n",
      "behavior_type    object\n",
      "user_geohash     object\n",
      "item_category    object\n",
      "time             object\n",
      "date             object\n",
      "hour             object\n",
      "dtypes: object(8)\n",
      "memory usage: 748.1+ MB\n"
     ]
    }
   ],
   "source": [
    "# 查看数据类型\n",
    "dt.info()\n",
    "# dt.dtypes"
   ]
  },
  {
   "cell_type": "markdown",
   "metadata": {},
   "source": [
    "更改time、date为日期型数据，hour为int型数据"
   ]
  },
  {
   "cell_type": "code",
   "execution_count": 12,
   "metadata": {},
   "outputs": [],
   "source": [
    "# 更改time、date为日期型数据，hour为int型数据\n",
    "dt[\"date\"] = pd.to_datetime(dt[\"date\"])\n",
    "dt[\"time\"] = pd.to_datetime(dt[\"time\"])\n",
    "dt[\"hour\"] = dt[\"hour\"].astype(\"int\")"
   ]
  },
  {
   "cell_type": "code",
   "execution_count": 13,
   "metadata": {},
   "outputs": [
    {
     "name": "stdout",
     "output_type": "stream",
     "text": [
      "<class 'pandas.core.frame.DataFrame'>\n",
      "RangeIndex: 12256906 entries, 0 to 12256905\n",
      "Data columns (total 8 columns):\n",
      "user_id          object\n",
      "item_id          object\n",
      "behavior_type    object\n",
      "user_geohash     object\n",
      "item_category    object\n",
      "time             datetime64[ns]\n",
      "date             datetime64[ns]\n",
      "hour             int32\n",
      "dtypes: datetime64[ns](2), int32(1), object(5)\n",
      "memory usage: 701.3+ MB\n"
     ]
    }
   ],
   "source": [
    "dt.info()"
   ]
  },
  {
   "cell_type": "markdown",
   "metadata": {},
   "source": [
    "###  异常值处理"
   ]
  },
  {
   "cell_type": "code",
   "execution_count": 23,
   "metadata": {},
   "outputs": [
    {
     "data": {
      "text/html": [
       "<div>\n",
       "<style scoped>\n",
       "    .dataframe tbody tr th:only-of-type {\n",
       "        vertical-align: middle;\n",
       "    }\n",
       "\n",
       "    .dataframe tbody tr th {\n",
       "        vertical-align: top;\n",
       "    }\n",
       "\n",
       "    .dataframe thead th {\n",
       "        text-align: right;\n",
       "    }\n",
       "</style>\n",
       "<table border=\"1\" class=\"dataframe\">\n",
       "  <thead>\n",
       "    <tr style=\"text-align: right;\">\n",
       "      <th></th>\n",
       "      <th>user_id</th>\n",
       "      <th>item_id</th>\n",
       "      <th>behavior_type</th>\n",
       "      <th>user_geohash</th>\n",
       "      <th>item_category</th>\n",
       "      <th>time</th>\n",
       "      <th>date</th>\n",
       "      <th>hour</th>\n",
       "    </tr>\n",
       "  </thead>\n",
       "  <tbody>\n",
       "    <tr>\n",
       "      <th>count</th>\n",
       "      <td>12256906</td>\n",
       "      <td>12256906</td>\n",
       "      <td>12256906</td>\n",
       "      <td>3922082</td>\n",
       "      <td>12256906</td>\n",
       "      <td>12256906</td>\n",
       "      <td>12256906</td>\n",
       "      <td>1.225691e+07</td>\n",
       "    </tr>\n",
       "    <tr>\n",
       "      <th>unique</th>\n",
       "      <td>10000</td>\n",
       "      <td>2876947</td>\n",
       "      <td>4</td>\n",
       "      <td>575458</td>\n",
       "      <td>8916</td>\n",
       "      <td>744</td>\n",
       "      <td>31</td>\n",
       "      <td>NaN</td>\n",
       "    </tr>\n",
       "    <tr>\n",
       "      <th>top</th>\n",
       "      <td>36233277</td>\n",
       "      <td>112921337</td>\n",
       "      <td>1</td>\n",
       "      <td>94ek6ke</td>\n",
       "      <td>1863</td>\n",
       "      <td>2014-12-11 22:00:00</td>\n",
       "      <td>2014-12-12 00:00:00</td>\n",
       "      <td>NaN</td>\n",
       "    </tr>\n",
       "    <tr>\n",
       "      <th>freq</th>\n",
       "      <td>31030</td>\n",
       "      <td>1445</td>\n",
       "      <td>11550581</td>\n",
       "      <td>1052</td>\n",
       "      <td>393247</td>\n",
       "      <td>54797</td>\n",
       "      <td>691712</td>\n",
       "      <td>NaN</td>\n",
       "    </tr>\n",
       "    <tr>\n",
       "      <th>first</th>\n",
       "      <td>NaN</td>\n",
       "      <td>NaN</td>\n",
       "      <td>NaN</td>\n",
       "      <td>NaN</td>\n",
       "      <td>NaN</td>\n",
       "      <td>2014-11-18 00:00:00</td>\n",
       "      <td>2014-11-18 00:00:00</td>\n",
       "      <td>NaN</td>\n",
       "    </tr>\n",
       "    <tr>\n",
       "      <th>last</th>\n",
       "      <td>NaN</td>\n",
       "      <td>NaN</td>\n",
       "      <td>NaN</td>\n",
       "      <td>NaN</td>\n",
       "      <td>NaN</td>\n",
       "      <td>2014-12-18 23:00:00</td>\n",
       "      <td>2014-12-18 00:00:00</td>\n",
       "      <td>NaN</td>\n",
       "    </tr>\n",
       "    <tr>\n",
       "      <th>mean</th>\n",
       "      <td>NaN</td>\n",
       "      <td>NaN</td>\n",
       "      <td>NaN</td>\n",
       "      <td>NaN</td>\n",
       "      <td>NaN</td>\n",
       "      <td>NaN</td>\n",
       "      <td>NaN</td>\n",
       "      <td>1.481799e+01</td>\n",
       "    </tr>\n",
       "    <tr>\n",
       "      <th>std</th>\n",
       "      <td>NaN</td>\n",
       "      <td>NaN</td>\n",
       "      <td>NaN</td>\n",
       "      <td>NaN</td>\n",
       "      <td>NaN</td>\n",
       "      <td>NaN</td>\n",
       "      <td>NaN</td>\n",
       "      <td>6.474778e+00</td>\n",
       "    </tr>\n",
       "    <tr>\n",
       "      <th>min</th>\n",
       "      <td>NaN</td>\n",
       "      <td>NaN</td>\n",
       "      <td>NaN</td>\n",
       "      <td>NaN</td>\n",
       "      <td>NaN</td>\n",
       "      <td>NaN</td>\n",
       "      <td>NaN</td>\n",
       "      <td>0.000000e+00</td>\n",
       "    </tr>\n",
       "    <tr>\n",
       "      <th>25%</th>\n",
       "      <td>NaN</td>\n",
       "      <td>NaN</td>\n",
       "      <td>NaN</td>\n",
       "      <td>NaN</td>\n",
       "      <td>NaN</td>\n",
       "      <td>NaN</td>\n",
       "      <td>NaN</td>\n",
       "      <td>1.000000e+01</td>\n",
       "    </tr>\n",
       "    <tr>\n",
       "      <th>50%</th>\n",
       "      <td>NaN</td>\n",
       "      <td>NaN</td>\n",
       "      <td>NaN</td>\n",
       "      <td>NaN</td>\n",
       "      <td>NaN</td>\n",
       "      <td>NaN</td>\n",
       "      <td>NaN</td>\n",
       "      <td>1.600000e+01</td>\n",
       "    </tr>\n",
       "    <tr>\n",
       "      <th>75%</th>\n",
       "      <td>NaN</td>\n",
       "      <td>NaN</td>\n",
       "      <td>NaN</td>\n",
       "      <td>NaN</td>\n",
       "      <td>NaN</td>\n",
       "      <td>NaN</td>\n",
       "      <td>NaN</td>\n",
       "      <td>2.000000e+01</td>\n",
       "    </tr>\n",
       "    <tr>\n",
       "      <th>max</th>\n",
       "      <td>NaN</td>\n",
       "      <td>NaN</td>\n",
       "      <td>NaN</td>\n",
       "      <td>NaN</td>\n",
       "      <td>NaN</td>\n",
       "      <td>NaN</td>\n",
       "      <td>NaN</td>\n",
       "      <td>2.300000e+01</td>\n",
       "    </tr>\n",
       "  </tbody>\n",
       "</table>\n",
       "</div>"
      ],
      "text/plain": [
       "         user_id    item_id behavior_type user_geohash item_category  \\\n",
       "count   12256906   12256906      12256906      3922082      12256906   \n",
       "unique     10000    2876947             4       575458          8916   \n",
       "top     36233277  112921337             1      94ek6ke          1863   \n",
       "freq       31030       1445      11550581         1052        393247   \n",
       "first        NaN        NaN           NaN          NaN           NaN   \n",
       "last         NaN        NaN           NaN          NaN           NaN   \n",
       "mean         NaN        NaN           NaN          NaN           NaN   \n",
       "std          NaN        NaN           NaN          NaN           NaN   \n",
       "min          NaN        NaN           NaN          NaN           NaN   \n",
       "25%          NaN        NaN           NaN          NaN           NaN   \n",
       "50%          NaN        NaN           NaN          NaN           NaN   \n",
       "75%          NaN        NaN           NaN          NaN           NaN   \n",
       "max          NaN        NaN           NaN          NaN           NaN   \n",
       "\n",
       "                       time                 date          hour  \n",
       "count              12256906             12256906  1.225691e+07  \n",
       "unique                  744                   31           NaN  \n",
       "top     2014-12-11 22:00:00  2014-12-12 00:00:00           NaN  \n",
       "freq                  54797               691712           NaN  \n",
       "first   2014-11-18 00:00:00  2014-11-18 00:00:00           NaN  \n",
       "last    2014-12-18 23:00:00  2014-12-18 00:00:00           NaN  \n",
       "mean                    NaN                  NaN  1.481799e+01  \n",
       "std                     NaN                  NaN  6.474778e+00  \n",
       "min                     NaN                  NaN  0.000000e+00  \n",
       "25%                     NaN                  NaN  1.000000e+01  \n",
       "50%                     NaN                  NaN  1.600000e+01  \n",
       "75%                     NaN                  NaN  2.000000e+01  \n",
       "max                     NaN                  NaN  2.300000e+01  "
      ]
     },
     "execution_count": 23,
     "metadata": {},
     "output_type": "execute_result"
    }
   ],
   "source": [
    "dt.sort_values(by=\"time\", ascending=True, inplace=True)\n",
    "dt.reset_index(drop=True, inplace=True)\n",
    "dt.describe(include=\"all\")"
   ]
  },
  {
   "cell_type": "markdown",
   "metadata": {},
   "source": [
    "观察知并无异常数据"
   ]
  },
  {
   "cell_type": "markdown",
   "metadata": {},
   "source": [
    "## 数据分析"
   ]
  },
  {
   "cell_type": "markdown",
   "metadata": {},
   "source": [
    "### 总量"
   ]
  },
  {
   "cell_type": "code",
   "execution_count": 47,
   "metadata": {},
   "outputs": [],
   "source": [
    "# 用户总量\n",
    "totle_num = dt[\"user_id\"].drop_duplicates().count()"
   ]
  },
  {
   "cell_type": "code",
   "execution_count": 48,
   "metadata": {},
   "outputs": [
    {
     "data": {
      "text/plain": [
       "10000"
      ]
     },
     "execution_count": 48,
     "metadata": {},
     "output_type": "execute_result"
    }
   ],
   "source": [
    "totle_num"
   ]
  },
  {
   "cell_type": "markdown",
   "metadata": {},
   "source": [
    "### pv、uv分析\n",
    "- pv（访问量）：PageView \n",
    "- uv（访客量）：UniqueVisitor"
   ]
  },
  {
   "cell_type": "markdown",
   "metadata": {},
   "source": [
    "#### 日访问分析"
   ]
  },
  {
   "cell_type": "markdown",
   "metadata": {},
   "source": [
    "日pv ： 记录每天用户访问次数"
   ]
  },
  {
   "cell_type": "code",
   "execution_count": 38,
   "metadata": {},
   "outputs": [],
   "source": [
    "# 日pv ： 记录每天用户访问次数\n",
    "pv_d = dt.groupby(\"date\").count()[\"user_id\"]"
   ]
  },
  {
   "cell_type": "code",
   "execution_count": 41,
   "metadata": {},
   "outputs": [
    {
     "data": {
      "text/plain": [
       "date\n",
       "2014-11-18    366701\n",
       "2014-11-19    358823\n",
       "2014-11-20    353429\n",
       "2014-11-21    333104\n",
       "2014-11-22    361355\n",
       "2014-11-23    382702\n",
       "2014-11-24    378342\n",
       "2014-11-25    370239\n",
       "2014-11-26    360896\n",
       "2014-11-27    371384\n",
       "2014-11-28    340638\n",
       "2014-11-29    364697\n",
       "2014-11-30    401620\n",
       "2014-12-01    394611\n",
       "2014-12-02    405216\n",
       "2014-12-03    411606\n",
       "2014-12-04    399952\n",
       "2014-12-05    361878\n",
       "2014-12-06    389610\n",
       "2014-12-07    399751\n",
       "2014-12-08    386667\n",
       "2014-12-09    398025\n",
       "2014-12-10    421910\n",
       "2014-12-11    488508\n",
       "2014-12-12    691712\n",
       "2014-12-13    407160\n",
       "2014-12-14    402541\n",
       "2014-12-15    398356\n",
       "2014-12-16    395085\n",
       "2014-12-17    384791\n",
       "2014-12-18    375597\n",
       "Name: pv_d, dtype: int64"
      ]
     },
     "execution_count": 41,
     "metadata": {},
     "output_type": "execute_result"
    }
   ],
   "source": [
    "pv_d.name=\"pv_d\"\n",
    "pv_d"
   ]
  },
  {
   "cell_type": "code",
   "execution_count": 44,
   "metadata": {},
   "outputs": [
    {
     "data": {
      "text/plain": [
       "'date'"
      ]
     },
     "execution_count": 44,
     "metadata": {},
     "output_type": "execute_result"
    }
   ],
   "source": [
    "pv_d.index.name"
   ]
  },
  {
   "cell_type": "markdown",
   "metadata": {},
   "source": [
    "日uv : 记录每日上线的用户数"
   ]
  },
  {
   "cell_type": "code",
   "execution_count": 49,
   "metadata": {},
   "outputs": [],
   "source": [
    "# 日uv : 记录每日上线的用户数\n",
    "uv_d = dt.groupby('date')[\"user_id\"].apply(\n",
    "    lambda x: x.drop_duplicates().count())"
   ]
  },
  {
   "cell_type": "code",
   "execution_count": 51,
   "metadata": {},
   "outputs": [
    {
     "data": {
      "text/plain": [
       "date\n",
       "2014-11-18    6343\n",
       "2014-11-19    6420\n",
       "2014-11-20    6333\n",
       "2014-11-21    6276\n",
       "2014-11-22    6187\n",
       "2014-11-23    6373\n",
       "2014-11-24    6513\n",
       "2014-11-25    6351\n",
       "2014-11-26    6357\n",
       "2014-11-27    6359\n",
       "2014-11-28    6189\n",
       "2014-11-29    6224\n",
       "2014-11-30    6379\n",
       "2014-12-01    6544\n",
       "2014-12-02    6550\n",
       "2014-12-03    6585\n",
       "2014-12-04    6531\n",
       "2014-12-05    6367\n",
       "2014-12-06    6440\n",
       "2014-12-07    6422\n",
       "2014-12-08    6564\n",
       "2014-12-09    6566\n",
       "2014-12-10    6652\n",
       "2014-12-11    6894\n",
       "2014-12-12    7720\n",
       "2014-12-13    6776\n",
       "2014-12-14    6668\n",
       "2014-12-15    6787\n",
       "2014-12-16    6729\n",
       "2014-12-17    6643\n",
       "2014-12-18    6582\n",
       "Name: uv_d, dtype: int64"
      ]
     },
     "execution_count": 51,
     "metadata": {},
     "output_type": "execute_result"
    }
   ],
   "source": [
    "uv_d.name = \"uv_d\"\n",
    "uv_d"
   ]
  },
  {
   "cell_type": "markdown",
   "metadata": {},
   "source": [
    "合并uv_d与pv_d"
   ]
  },
  {
   "cell_type": "code",
   "execution_count": 52,
   "metadata": {},
   "outputs": [],
   "source": [
    "# 合并uv_d与pv_d\n",
    "pv_uv_d = pd.concat([pv_d, uv_d], axis=1)"
   ]
  },
  {
   "cell_type": "code",
   "execution_count": 209,
   "metadata": {},
   "outputs": [
    {
     "data": {
      "text/html": [
       "<div>\n",
       "<style scoped>\n",
       "    .dataframe tbody tr th:only-of-type {\n",
       "        vertical-align: middle;\n",
       "    }\n",
       "\n",
       "    .dataframe tbody tr th {\n",
       "        vertical-align: top;\n",
       "    }\n",
       "\n",
       "    .dataframe thead th {\n",
       "        text-align: right;\n",
       "    }\n",
       "</style>\n",
       "<table border=\"1\" class=\"dataframe\">\n",
       "  <thead>\n",
       "    <tr style=\"text-align: right;\">\n",
       "      <th></th>\n",
       "      <th>pv_d</th>\n",
       "      <th>uv_d</th>\n",
       "    </tr>\n",
       "    <tr>\n",
       "      <th>date</th>\n",
       "      <th></th>\n",
       "      <th></th>\n",
       "    </tr>\n",
       "  </thead>\n",
       "  <tbody>\n",
       "    <tr>\n",
       "      <th>2014-11-18</th>\n",
       "      <td>366701</td>\n",
       "      <td>6343</td>\n",
       "    </tr>\n",
       "    <tr>\n",
       "      <th>2014-11-19</th>\n",
       "      <td>358823</td>\n",
       "      <td>6420</td>\n",
       "    </tr>\n",
       "    <tr>\n",
       "      <th>2014-11-20</th>\n",
       "      <td>353429</td>\n",
       "      <td>6333</td>\n",
       "    </tr>\n",
       "    <tr>\n",
       "      <th>2014-11-21</th>\n",
       "      <td>333104</td>\n",
       "      <td>6276</td>\n",
       "    </tr>\n",
       "    <tr>\n",
       "      <th>2014-11-22</th>\n",
       "      <td>361355</td>\n",
       "      <td>6187</td>\n",
       "    </tr>\n",
       "  </tbody>\n",
       "</table>\n",
       "</div>"
      ],
      "text/plain": [
       "              pv_d  uv_d\n",
       "date                    \n",
       "2014-11-18  366701  6343\n",
       "2014-11-19  358823  6420\n",
       "2014-11-20  353429  6333\n",
       "2014-11-21  333104  6276\n",
       "2014-11-22  361355  6187"
      ]
     },
     "execution_count": 209,
     "metadata": {},
     "output_type": "execute_result"
    }
   ],
   "source": [
    "pv_uv_d.head()"
   ]
  },
  {
   "cell_type": "code",
   "execution_count": 61,
   "metadata": {},
   "outputs": [
    {
     "name": "stdout",
     "output_type": "stream",
     "text": [
      "pearson相关系数：0.921\n",
      "spearman相关系数：0.825\n"
     ]
    }
   ],
   "source": [
    "# 查看pv_d与uv_d间的相关系数\n",
    "method = [\"pearson\", \"spearman\"]\n",
    "for i in method:\n",
    "    corr = pv_uv_d.corr(method=i)\n",
    "    print(f\"{i}相关系数：{corr.iloc[0,1]:.3f}\")"
   ]
  },
  {
   "cell_type": "markdown",
   "metadata": {},
   "source": [
    "访问量与访问用户间的pearson相关系数为0.921、spearman相关系数为0.825，表现为强相关性"
   ]
  },
  {
   "cell_type": "code",
   "execution_count": 208,
   "metadata": {},
   "outputs": [
    {
     "data": {
      "image/png": "[encoded data removed]",
      "text/plain": [
       "<Figure size 1152x648 with 2 Axes>"
      ]
     },
     "metadata": {},
     "output_type": "display_data"
    }
   ],
   "source": [
    "plt.rcParams[\"font.family\"] = \"SimHei\"\n",
    "plt.figure(figsize=(16, 9))\n",
    "plt.subplot(211)\n",
    "plt.plot(pv_d,c=\"m\",label=\"pv\")\n",
    "plt.legend()\n",
    "plt.subplot(212)\n",
    "plt.plot(uv_d, c=\"c\",label=\"uv\")\n",
    "plt.legend()\n",
    "plt.suptitle(\"PV与UV变化趋势\", size=25)\n",
    "\n",
    "plt.show()"
   ]
  },
  {
   "cell_type": "markdown",
   "metadata": {},
   "source": [
    "通过图形我们很容易发现双十二期间，pv与uv同时到达峰值"
   ]
  },
  {
   "cell_type": "markdown",
   "metadata": {},
   "source": [
    "#### 小时访问分析"
   ]
  },
  {
   "cell_type": "code",
   "execution_count": 90,
   "metadata": {},
   "outputs": [],
   "source": [
    "# pv_h 记录每天中各小时访问次数\n",
    "pv_h = dt.groupby([\"date\",\"hour\"]).count()[\"user_id\"]"
   ]
  },
  {
   "cell_type": "code",
   "execution_count": 91,
   "metadata": {},
   "outputs": [],
   "source": [
    "pv_h.name = \"pv_h\""
   ]
  },
  {
   "cell_type": "code",
   "execution_count": 210,
   "metadata": {},
   "outputs": [
    {
     "data": {
      "text/plain": [
       "date        hour\n",
       "2014-11-18  0       13719\n",
       "            1        7194\n",
       "            2        5343\n",
       "            3        3486\n",
       "            4        2782\n",
       "Name: pv_h, dtype: int64"
      ]
     },
     "execution_count": 210,
     "metadata": {},
     "output_type": "execute_result"
    }
   ],
   "source": [
    "pv_h.head()"
   ]
  },
  {
   "cell_type": "markdown",
   "metadata": {},
   "source": [
    "uv_h 记录每天中各小时访问用户数"
   ]
  },
  {
   "cell_type": "code",
   "execution_count": 93,
   "metadata": {},
   "outputs": [],
   "source": [
    "# uv_h 记录每天中各小时访问用户数\n",
    "uv_h = dt.groupby([\"date\", \"hour\"])[\"user_id\"].apply(lambda x: x.drop_duplicates().count())"
   ]
  },
  {
   "cell_type": "code",
   "execution_count": 95,
   "metadata": {},
   "outputs": [
    {
     "data": {
      "text/plain": [
       "date        hour\n",
       "2014-12-06  18      1128\n",
       "2014-12-17  21      1643\n",
       "2014-12-12  13      1832\n",
       "2014-12-05  2        144\n",
       "2014-12-03  21      1668\n",
       "Name: uv_h, dtype: int64"
      ]
     },
     "execution_count": 95,
     "metadata": {},
     "output_type": "execute_result"
    }
   ],
   "source": [
    "uv_h.name = \"uv_h\"\n",
    "uv_h.sample(5)"
   ]
  },
  {
   "cell_type": "markdown",
   "metadata": {},
   "source": [
    "合并uv_h与pv_h"
   ]
  },
  {
   "cell_type": "code",
   "execution_count": 97,
   "metadata": {
    "scrolled": false
   },
   "outputs": [
    {
     "data": {
      "text/html": [
       "<div>\n",
       "<style scoped>\n",
       "    .dataframe tbody tr th:only-of-type {\n",
       "        vertical-align: middle;\n",
       "    }\n",
       "\n",
       "    .dataframe tbody tr th {\n",
       "        vertical-align: top;\n",
       "    }\n",
       "\n",
       "    .dataframe thead th {\n",
       "        text-align: right;\n",
       "    }\n",
       "</style>\n",
       "<table border=\"1\" class=\"dataframe\">\n",
       "  <thead>\n",
       "    <tr style=\"text-align: right;\">\n",
       "      <th></th>\n",
       "      <th></th>\n",
       "      <th>pv_h</th>\n",
       "      <th>uv_h</th>\n",
       "    </tr>\n",
       "    <tr>\n",
       "      <th>date</th>\n",
       "      <th>hour</th>\n",
       "      <th></th>\n",
       "      <th></th>\n",
       "    </tr>\n",
       "  </thead>\n",
       "  <tbody>\n",
       "    <tr>\n",
       "      <th>2014-12-13</th>\n",
       "      <th>21</th>\n",
       "      <td>35747</td>\n",
       "      <td>1687</td>\n",
       "    </tr>\n",
       "    <tr>\n",
       "      <th>2014-12-16</th>\n",
       "      <th>22</th>\n",
       "      <td>36746</td>\n",
       "      <td>1571</td>\n",
       "    </tr>\n",
       "    <tr>\n",
       "      <th>2014-12-09</th>\n",
       "      <th>20</th>\n",
       "      <td>32912</td>\n",
       "      <td>1577</td>\n",
       "    </tr>\n",
       "    <tr>\n",
       "      <th>2014-11-27</th>\n",
       "      <th>20</th>\n",
       "      <td>26178</td>\n",
       "      <td>1397</td>\n",
       "    </tr>\n",
       "    <tr>\n",
       "      <th>2014-12-14</th>\n",
       "      <th>17</th>\n",
       "      <td>17307</td>\n",
       "      <td>1145</td>\n",
       "    </tr>\n",
       "  </tbody>\n",
       "</table>\n",
       "</div>"
      ],
      "text/plain": [
       "                  pv_h  uv_h\n",
       "date       hour             \n",
       "2014-12-13 21    35747  1687\n",
       "2014-12-16 22    36746  1571\n",
       "2014-12-09 20    32912  1577\n",
       "2014-11-27 20    26178  1397\n",
       "2014-12-14 17    17307  1145"
      ]
     },
     "execution_count": 97,
     "metadata": {},
     "output_type": "execute_result"
    }
   ],
   "source": [
    "# 合并uv_h与pv_h\n",
    "pv_uv_h = pd.concat([pv_h, uv_h], axis=1)\n",
    "pv_uv_h.sample(5)"
   ]
  },
  {
   "cell_type": "code",
   "execution_count": 138,
   "metadata": {
    "collapsed": true
   },
   "outputs": [
    {
     "data": {
      "text/html": [
       "<div>\n",
       "<style scoped>\n",
       "    .dataframe tbody tr th:only-of-type {\n",
       "        vertical-align: middle;\n",
       "    }\n",
       "\n",
       "    .dataframe tbody tr th {\n",
       "        vertical-align: top;\n",
       "    }\n",
       "\n",
       "    .dataframe thead th {\n",
       "        text-align: right;\n",
       "    }\n",
       "</style>\n",
       "<table border=\"1\" class=\"dataframe\">\n",
       "  <thead>\n",
       "    <tr style=\"text-align: right;\">\n",
       "      <th></th>\n",
       "      <th></th>\n",
       "      <th>date</th>\n",
       "      <th>hour</th>\n",
       "    </tr>\n",
       "    <tr>\n",
       "      <th>date</th>\n",
       "      <th>hour</th>\n",
       "      <th></th>\n",
       "      <th></th>\n",
       "    </tr>\n",
       "  </thead>\n",
       "  <tbody>\n",
       "    <tr>\n",
       "      <th rowspan=\"24\" valign=\"top\">2014-11-18</th>\n",
       "      <th>0</th>\n",
       "      <td>2014-11-18</td>\n",
       "      <td>0</td>\n",
       "    </tr>\n",
       "    <tr>\n",
       "      <th>1</th>\n",
       "      <td>2014-11-18</td>\n",
       "      <td>1</td>\n",
       "    </tr>\n",
       "    <tr>\n",
       "      <th>2</th>\n",
       "      <td>2014-11-18</td>\n",
       "      <td>2</td>\n",
       "    </tr>\n",
       "    <tr>\n",
       "      <th>3</th>\n",
       "      <td>2014-11-18</td>\n",
       "      <td>3</td>\n",
       "    </tr>\n",
       "    <tr>\n",
       "      <th>4</th>\n",
       "      <td>2014-11-18</td>\n",
       "      <td>4</td>\n",
       "    </tr>\n",
       "    <tr>\n",
       "      <th>5</th>\n",
       "      <td>2014-11-18</td>\n",
       "      <td>5</td>\n",
       "    </tr>\n",
       "    <tr>\n",
       "      <th>6</th>\n",
       "      <td>2014-11-18</td>\n",
       "      <td>6</td>\n",
       "    </tr>\n",
       "    <tr>\n",
       "      <th>7</th>\n",
       "      <td>2014-11-18</td>\n",
       "      <td>7</td>\n",
       "    </tr>\n",
       "    <tr>\n",
       "      <th>8</th>\n",
       "      <td>2014-11-18</td>\n",
       "      <td>8</td>\n",
       "    </tr>\n",
       "    <tr>\n",
       "      <th>9</th>\n",
       "      <td>2014-11-18</td>\n",
       "      <td>9</td>\n",
       "    </tr>\n",
       "    <tr>\n",
       "      <th>10</th>\n",
       "      <td>2014-11-18</td>\n",
       "      <td>10</td>\n",
       "    </tr>\n",
       "    <tr>\n",
       "      <th>11</th>\n",
       "      <td>2014-11-18</td>\n",
       "      <td>11</td>\n",
       "    </tr>\n",
       "    <tr>\n",
       "      <th>12</th>\n",
       "      <td>2014-11-18</td>\n",
       "      <td>12</td>\n",
       "    </tr>\n",
       "    <tr>\n",
       "      <th>13</th>\n",
       "      <td>2014-11-18</td>\n",
       "      <td>13</td>\n",
       "    </tr>\n",
       "    <tr>\n",
       "      <th>14</th>\n",
       "      <td>2014-11-18</td>\n",
       "      <td>14</td>\n",
       "    </tr>\n",
       "    <tr>\n",
       "      <th>15</th>\n",
       "      <td>2014-11-18</td>\n",
       "      <td>15</td>\n",
       "    </tr>\n",
       "    <tr>\n",
       "      <th>16</th>\n",
       "      <td>2014-11-18</td>\n",
       "      <td>16</td>\n",
       "    </tr>\n",
       "    <tr>\n",
       "      <th>17</th>\n",
       "      <td>2014-11-18</td>\n",
       "      <td>17</td>\n",
       "    </tr>\n",
       "    <tr>\n",
       "      <th>18</th>\n",
       "      <td>2014-11-18</td>\n",
       "      <td>18</td>\n",
       "    </tr>\n",
       "    <tr>\n",
       "      <th>19</th>\n",
       "      <td>2014-11-18</td>\n",
       "      <td>19</td>\n",
       "    </tr>\n",
       "    <tr>\n",
       "      <th>20</th>\n",
       "      <td>2014-11-18</td>\n",
       "      <td>20</td>\n",
       "    </tr>\n",
       "    <tr>\n",
       "      <th>21</th>\n",
       "      <td>2014-11-18</td>\n",
       "      <td>21</td>\n",
       "    </tr>\n",
       "    <tr>\n",
       "      <th>22</th>\n",
       "      <td>2014-11-18</td>\n",
       "      <td>22</td>\n",
       "    </tr>\n",
       "    <tr>\n",
       "      <th>23</th>\n",
       "      <td>2014-11-18</td>\n",
       "      <td>23</td>\n",
       "    </tr>\n",
       "    <tr>\n",
       "      <th rowspan=\"6\" valign=\"top\">2014-11-19</th>\n",
       "      <th>0</th>\n",
       "      <td>2014-11-19</td>\n",
       "      <td>0</td>\n",
       "    </tr>\n",
       "    <tr>\n",
       "      <th>1</th>\n",
       "      <td>2014-11-19</td>\n",
       "      <td>1</td>\n",
       "    </tr>\n",
       "    <tr>\n",
       "      <th>2</th>\n",
       "      <td>2014-11-19</td>\n",
       "      <td>2</td>\n",
       "    </tr>\n",
       "    <tr>\n",
       "      <th>3</th>\n",
       "      <td>2014-11-19</td>\n",
       "      <td>3</td>\n",
       "    </tr>\n",
       "    <tr>\n",
       "      <th>4</th>\n",
       "      <td>2014-11-19</td>\n",
       "      <td>4</td>\n",
       "    </tr>\n",
       "    <tr>\n",
       "      <th>5</th>\n",
       "      <td>2014-11-19</td>\n",
       "      <td>5</td>\n",
       "    </tr>\n",
       "    <tr>\n",
       "      <th>...</th>\n",
       "      <th>...</th>\n",
       "      <td>...</td>\n",
       "      <td>...</td>\n",
       "    </tr>\n",
       "    <tr>\n",
       "      <th rowspan=\"6\" valign=\"top\">2014-12-17</th>\n",
       "      <th>18</th>\n",
       "      <td>2014-12-17</td>\n",
       "      <td>18</td>\n",
       "    </tr>\n",
       "    <tr>\n",
       "      <th>19</th>\n",
       "      <td>2014-12-17</td>\n",
       "      <td>19</td>\n",
       "    </tr>\n",
       "    <tr>\n",
       "      <th>20</th>\n",
       "      <td>2014-12-17</td>\n",
       "      <td>20</td>\n",
       "    </tr>\n",
       "    <tr>\n",
       "      <th>21</th>\n",
       "      <td>2014-12-17</td>\n",
       "      <td>21</td>\n",
       "    </tr>\n",
       "    <tr>\n",
       "      <th>22</th>\n",
       "      <td>2014-12-17</td>\n",
       "      <td>22</td>\n",
       "    </tr>\n",
       "    <tr>\n",
       "      <th>23</th>\n",
       "      <td>2014-12-17</td>\n",
       "      <td>23</td>\n",
       "    </tr>\n",
       "    <tr>\n",
       "      <th rowspan=\"24\" valign=\"top\">2014-12-18</th>\n",
       "      <th>0</th>\n",
       "      <td>2014-12-18</td>\n",
       "      <td>0</td>\n",
       "    </tr>\n",
       "    <tr>\n",
       "      <th>1</th>\n",
       "      <td>2014-12-18</td>\n",
       "      <td>1</td>\n",
       "    </tr>\n",
       "    <tr>\n",
       "      <th>2</th>\n",
       "      <td>2014-12-18</td>\n",
       "      <td>2</td>\n",
       "    </tr>\n",
       "    <tr>\n",
       "      <th>3</th>\n",
       "      <td>2014-12-18</td>\n",
       "      <td>3</td>\n",
       "    </tr>\n",
       "    <tr>\n",
       "      <th>4</th>\n",
       "      <td>2014-12-18</td>\n",
       "      <td>4</td>\n",
       "    </tr>\n",
       "    <tr>\n",
       "      <th>5</th>\n",
       "      <td>2014-12-18</td>\n",
       "      <td>5</td>\n",
       "    </tr>\n",
       "    <tr>\n",
       "      <th>6</th>\n",
       "      <td>2014-12-18</td>\n",
       "      <td>6</td>\n",
       "    </tr>\n",
       "    <tr>\n",
       "      <th>7</th>\n",
       "      <td>2014-12-18</td>\n",
       "      <td>7</td>\n",
       "    </tr>\n",
       "    <tr>\n",
       "      <th>8</th>\n",
       "      <td>2014-12-18</td>\n",
       "      <td>8</td>\n",
       "    </tr>\n",
       "    <tr>\n",
       "      <th>9</th>\n",
       "      <td>2014-12-18</td>\n",
       "      <td>9</td>\n",
       "    </tr>\n",
       "    <tr>\n",
       "      <th>10</th>\n",
       "      <td>2014-12-18</td>\n",
       "      <td>10</td>\n",
       "    </tr>\n",
       "    <tr>\n",
       "      <th>11</th>\n",
       "      <td>2014-12-18</td>\n",
       "      <td>11</td>\n",
       "    </tr>\n",
       "    <tr>\n",
       "      <th>12</th>\n",
       "      <td>2014-12-18</td>\n",
       "      <td>12</td>\n",
       "    </tr>\n",
       "    <tr>\n",
       "      <th>13</th>\n",
       "      <td>2014-12-18</td>\n",
       "      <td>13</td>\n",
       "    </tr>\n",
       "    <tr>\n",
       "      <th>14</th>\n",
       "      <td>2014-12-18</td>\n",
       "      <td>14</td>\n",
       "    </tr>\n",
       "    <tr>\n",
       "      <th>15</th>\n",
       "      <td>2014-12-18</td>\n",
       "      <td>15</td>\n",
       "    </tr>\n",
       "    <tr>\n",
       "      <th>16</th>\n",
       "      <td>2014-12-18</td>\n",
       "      <td>16</td>\n",
       "    </tr>\n",
       "    <tr>\n",
       "      <th>17</th>\n",
       "      <td>2014-12-18</td>\n",
       "      <td>17</td>\n",
       "    </tr>\n",
       "    <tr>\n",
       "      <th>18</th>\n",
       "      <td>2014-12-18</td>\n",
       "      <td>18</td>\n",
       "    </tr>\n",
       "    <tr>\n",
       "      <th>19</th>\n",
       "      <td>2014-12-18</td>\n",
       "      <td>19</td>\n",
       "    </tr>\n",
       "    <tr>\n",
       "      <th>20</th>\n",
       "      <td>2014-12-18</td>\n",
       "      <td>20</td>\n",
       "    </tr>\n",
       "    <tr>\n",
       "      <th>21</th>\n",
       "      <td>2014-12-18</td>\n",
       "      <td>21</td>\n",
       "    </tr>\n",
       "    <tr>\n",
       "      <th>22</th>\n",
       "      <td>2014-12-18</td>\n",
       "      <td>22</td>\n",
       "    </tr>\n",
       "    <tr>\n",
       "      <th>23</th>\n",
       "      <td>2014-12-18</td>\n",
       "      <td>23</td>\n",
       "    </tr>\n",
       "  </tbody>\n",
       "</table>\n",
       "<p>744 rows × 2 columns</p>\n",
       "</div>"
      ],
      "text/plain": [
       "                      date  hour\n",
       "date       hour                 \n",
       "2014-11-18 0    2014-11-18     0\n",
       "           1    2014-11-18     1\n",
       "           2    2014-11-18     2\n",
       "           3    2014-11-18     3\n",
       "           4    2014-11-18     4\n",
       "           5    2014-11-18     5\n",
       "           6    2014-11-18     6\n",
       "           7    2014-11-18     7\n",
       "           8    2014-11-18     8\n",
       "           9    2014-11-18     9\n",
       "           10   2014-11-18    10\n",
       "           11   2014-11-18    11\n",
       "           12   2014-11-18    12\n",
       "           13   2014-11-18    13\n",
       "           14   2014-11-18    14\n",
       "           15   2014-11-18    15\n",
       "           16   2014-11-18    16\n",
       "           17   2014-11-18    17\n",
       "           18   2014-11-18    18\n",
       "           19   2014-11-18    19\n",
       "           20   2014-11-18    20\n",
       "           21   2014-11-18    21\n",
       "           22   2014-11-18    22\n",
       "           23   2014-11-18    23\n",
       "2014-11-19 0    2014-11-19     0\n",
       "           1    2014-11-19     1\n",
       "           2    2014-11-19     2\n",
       "           3    2014-11-19     3\n",
       "           4    2014-11-19     4\n",
       "           5    2014-11-19     5\n",
       "...                    ...   ...\n",
       "2014-12-17 18   2014-12-17    18\n",
       "           19   2014-12-17    19\n",
       "           20   2014-12-17    20\n",
       "           21   2014-12-17    21\n",
       "           22   2014-12-17    22\n",
       "           23   2014-12-17    23\n",
       "2014-12-18 0    2014-12-18     0\n",
       "           1    2014-12-18     1\n",
       "           2    2014-12-18     2\n",
       "           3    2014-12-18     3\n",
       "           4    2014-12-18     4\n",
       "           5    2014-12-18     5\n",
       "           6    2014-12-18     6\n",
       "           7    2014-12-18     7\n",
       "           8    2014-12-18     8\n",
       "           9    2014-12-18     9\n",
       "           10   2014-12-18    10\n",
       "           11   2014-12-18    11\n",
       "           12   2014-12-18    12\n",
       "           13   2014-12-18    13\n",
       "           14   2014-12-18    14\n",
       "           15   2014-12-18    15\n",
       "           16   2014-12-18    16\n",
       "           17   2014-12-18    17\n",
       "           18   2014-12-18    18\n",
       "           19   2014-12-18    19\n",
       "           20   2014-12-18    20\n",
       "           21   2014-12-18    21\n",
       "           22   2014-12-18    22\n",
       "           23   2014-12-18    23\n",
       "\n",
       "[744 rows x 2 columns]"
      ]
     },
     "execution_count": 138,
     "metadata": {},
     "output_type": "execute_result"
    }
   ],
   "source": [
    "pd.MultiIndex.to_frame(pv_h.index)"
   ]
  },
  {
   "cell_type": "code",
   "execution_count": 105,
   "metadata": {},
   "outputs": [
    {
     "name": "stdout",
     "output_type": "stream",
     "text": [
      "pearson相关系数：0.929\n",
      "spearman相关系数：0.943\n"
     ]
    }
   ],
   "source": [
    "# 查看pv_h与uv_h间的相关系数\n",
    "method = [\"pearson\", \"spearman\"]\n",
    "for i in method:\n",
    "    corr = pv_uv_h.corr(method=i)\n",
    "    print(f\"{i}相关系数：{corr.iloc[0,1]:.3f}\")"
   ]
  },
  {
   "cell_type": "markdown",
   "metadata": {},
   "source": [
    "访问量与访问用户间的pearson相关系数为0.929、spearman相关系数为0.943，表现出极强的相关性"
   ]
  },
  {
   "cell_type": "markdown",
   "metadata": {},
   "source": [
    "对某天不同时间的pv，uv变化趋势进行可视化"
   ]
  },
  {
   "cell_type": "code",
   "execution_count": 205,
   "metadata": {
    "scrolled": true
   },
   "outputs": [
    {
     "data": {
      "image/png": "[encoded data removed]",
      "text/plain": [
       "<Figure size 1152x648 with 2 Axes>"
      ]
     },
     "metadata": {},
     "output_type": "display_data"
    }
   ],
   "source": [
    "# 对某天不同时间的pv，uv变化趋势进行可视化\n",
    "# 以2014-12-12为例\n",
    "plt.figure(figsize=(16, 9))\n",
    "plt.subplot(211)\n",
    "plt.plot(pv_h.loc[\"2014-12-09\"].values.tolist(), lw=3, label=\"每小时访问量\")\n",
    "plt.xticks(range(0, 24))\n",
    "plt.legend(loc=2)\n",
    "plt.subplot(212)\n",
    "plt.plot(uv_h.loc[\"2014-12-09\"].values.tolist(), c=\"c\", lw=3, label=\"每小时访问客户数\")\n",
    "plt.suptitle(\"PV与UV变化趋势\", size=22)\n",
    "plt.xticks(range(0, 24))\n",
    "plt.legend(loc=2)\n",
    "plt.show()"
   ]
  },
  {
   "cell_type": "markdown",
   "metadata": {},
   "source": [
    "PV与UV呈相同的变化趋势，0-5点呈下降趋势，5-10逐渐增长，21时附近达到峰值，18点-0点为淘宝app用户活跃时间段"
   ]
  },
  {
   "cell_type": "markdown",
   "metadata": {},
   "source": [
    "### 不同行为类型用户PV分析"
   ]
  },
  {
   "cell_type": "markdown",
   "metadata": {},
   "source": [
    "计算不同行为的用户，在每小时的访问量"
   ]
  },
  {
   "cell_type": "code",
   "execution_count": 241,
   "metadata": {},
   "outputs": [],
   "source": [
    "# 计算不同行为的用户，在每小时的访问量\n",
    "d_pv_h = pd.pivot_table(columns=\"behavior_type\",\n",
    "                        index=[\"hour\"],\n",
    "                        data=dt,\n",
    "                        values=\"user_id\",\n",
    "                        aggfunc=np.size)"
   ]
  },
  {
   "cell_type": "code",
   "execution_count": 242,
   "metadata": {
    "scrolled": true
   },
   "outputs": [
    {
     "data": {
      "text/html": [
       "<div>\n",
       "<style scoped>\n",
       "    .dataframe tbody tr th:only-of-type {\n",
       "        vertical-align: middle;\n",
       "    }\n",
       "\n",
       "    .dataframe tbody tr th {\n",
       "        vertical-align: top;\n",
       "    }\n",
       "\n",
       "    .dataframe thead th {\n",
       "        text-align: right;\n",
       "    }\n",
       "</style>\n",
       "<table border=\"1\" class=\"dataframe\">\n",
       "  <thead>\n",
       "    <tr style=\"text-align: right;\">\n",
       "      <th>behavior_type</th>\n",
       "      <th>1</th>\n",
       "      <th>2</th>\n",
       "      <th>3</th>\n",
       "      <th>4</th>\n",
       "    </tr>\n",
       "    <tr>\n",
       "      <th>hour</th>\n",
       "      <th></th>\n",
       "      <th></th>\n",
       "      <th></th>\n",
       "      <th></th>\n",
       "    </tr>\n",
       "  </thead>\n",
       "  <tbody>\n",
       "    <tr>\n",
       "      <th>15</th>\n",
       "      <td>562238</td>\n",
       "      <td>12010</td>\n",
       "      <td>17289</td>\n",
       "      <td>7312</td>\n",
       "    </tr>\n",
       "    <tr>\n",
       "      <th>1</th>\n",
       "      <td>252991</td>\n",
       "      <td>6276</td>\n",
       "      <td>6712</td>\n",
       "      <td>1703</td>\n",
       "    </tr>\n",
       "    <tr>\n",
       "      <th>8</th>\n",
       "      <td>374701</td>\n",
       "      <td>7849</td>\n",
       "      <td>9970</td>\n",
       "      <td>3586</td>\n",
       "    </tr>\n",
       "    <tr>\n",
       "      <th>13</th>\n",
       "      <td>561513</td>\n",
       "      <td>11694</td>\n",
       "      <td>17419</td>\n",
       "      <td>7717</td>\n",
       "    </tr>\n",
       "    <tr>\n",
       "      <th>14</th>\n",
       "      <td>558246</td>\n",
       "      <td>11695</td>\n",
       "      <td>17067</td>\n",
       "      <td>7207</td>\n",
       "    </tr>\n",
       "    <tr>\n",
       "      <th>0</th>\n",
       "      <td>487341</td>\n",
       "      <td>11062</td>\n",
       "      <td>14156</td>\n",
       "      <td>4845</td>\n",
       "    </tr>\n",
       "    <tr>\n",
       "      <th>17</th>\n",
       "      <td>476369</td>\n",
       "      <td>9754</td>\n",
       "      <td>14515</td>\n",
       "      <td>5298</td>\n",
       "    </tr>\n",
       "    <tr>\n",
       "      <th>10</th>\n",
       "      <td>515960</td>\n",
       "      <td>11185</td>\n",
       "      <td>16203</td>\n",
       "      <td>7317</td>\n",
       "    </tr>\n",
       "    <tr>\n",
       "      <th>2</th>\n",
       "      <td>139139</td>\n",
       "      <td>3311</td>\n",
       "      <td>3834</td>\n",
       "      <td>806</td>\n",
       "    </tr>\n",
       "    <tr>\n",
       "      <th>9</th>\n",
       "      <td>456781</td>\n",
       "      <td>10507</td>\n",
       "      <td>12956</td>\n",
       "      <td>5707</td>\n",
       "    </tr>\n",
       "  </tbody>\n",
       "</table>\n",
       "</div>"
      ],
      "text/plain": [
       "behavior_type       1      2      3     4\n",
       "hour                                     \n",
       "15             562238  12010  17289  7312\n",
       "1              252991   6276   6712  1703\n",
       "8              374701   7849   9970  3586\n",
       "13             561513  11694  17419  7717\n",
       "14             558246  11695  17067  7207\n",
       "0              487341  11062  14156  4845\n",
       "17             476369   9754  14515  5298\n",
       "10             515960  11185  16203  7317\n",
       "2              139139   3311   3834   806\n",
       "9              456781  10507  12956  5707"
      ]
     },
     "execution_count": 242,
     "metadata": {},
     "output_type": "execute_result"
    }
   ],
   "source": [
    "d_pv_h.sample(10)"
   ]
  },
  {
   "cell_type": "code",
   "execution_count": 252,
   "metadata": {},
   "outputs": [
    {
     "data": {
      "text/html": [
       "<div>\n",
       "<style scoped>\n",
       "    .dataframe tbody tr th:only-of-type {\n",
       "        vertical-align: middle;\n",
       "    }\n",
       "\n",
       "    .dataframe tbody tr th {\n",
       "        vertical-align: top;\n",
       "    }\n",
       "\n",
       "    .dataframe thead th {\n",
       "        text-align: right;\n",
       "    }\n",
       "</style>\n",
       "<table border=\"1\" class=\"dataframe\">\n",
       "  <thead>\n",
       "    <tr style=\"text-align: right;\">\n",
       "      <th>behavior_type</th>\n",
       "      <th>点击</th>\n",
       "      <th>收藏</th>\n",
       "      <th>加购物车</th>\n",
       "      <th>支付</th>\n",
       "    </tr>\n",
       "    <tr>\n",
       "      <th>hour</th>\n",
       "      <th></th>\n",
       "      <th></th>\n",
       "      <th></th>\n",
       "      <th></th>\n",
       "    </tr>\n",
       "  </thead>\n",
       "  <tbody>\n",
       "    <tr>\n",
       "      <th>0</th>\n",
       "      <td>487341</td>\n",
       "      <td>11062</td>\n",
       "      <td>14156</td>\n",
       "      <td>4845</td>\n",
       "    </tr>\n",
       "    <tr>\n",
       "      <th>1</th>\n",
       "      <td>252991</td>\n",
       "      <td>6276</td>\n",
       "      <td>6712</td>\n",
       "      <td>1703</td>\n",
       "    </tr>\n",
       "    <tr>\n",
       "      <th>2</th>\n",
       "      <td>139139</td>\n",
       "      <td>3311</td>\n",
       "      <td>3834</td>\n",
       "      <td>806</td>\n",
       "    </tr>\n",
       "    <tr>\n",
       "      <th>3</th>\n",
       "      <td>93250</td>\n",
       "      <td>2282</td>\n",
       "      <td>2480</td>\n",
       "      <td>504</td>\n",
       "    </tr>\n",
       "    <tr>\n",
       "      <th>4</th>\n",
       "      <td>75832</td>\n",
       "      <td>2010</td>\n",
       "      <td>2248</td>\n",
       "      <td>397</td>\n",
       "    </tr>\n",
       "    <tr>\n",
       "      <th>5</th>\n",
       "      <td>83545</td>\n",
       "      <td>2062</td>\n",
       "      <td>2213</td>\n",
       "      <td>476</td>\n",
       "    </tr>\n",
       "    <tr>\n",
       "      <th>6</th>\n",
       "      <td>150356</td>\n",
       "      <td>3651</td>\n",
       "      <td>3768</td>\n",
       "      <td>1023</td>\n",
       "    </tr>\n",
       "    <tr>\n",
       "      <th>7</th>\n",
       "      <td>272470</td>\n",
       "      <td>5885</td>\n",
       "      <td>7044</td>\n",
       "      <td>1938</td>\n",
       "    </tr>\n",
       "    <tr>\n",
       "      <th>8</th>\n",
       "      <td>374701</td>\n",
       "      <td>7849</td>\n",
       "      <td>9970</td>\n",
       "      <td>3586</td>\n",
       "    </tr>\n",
       "    <tr>\n",
       "      <th>9</th>\n",
       "      <td>456781</td>\n",
       "      <td>10507</td>\n",
       "      <td>12956</td>\n",
       "      <td>5707</td>\n",
       "    </tr>\n",
       "    <tr>\n",
       "      <th>10</th>\n",
       "      <td>515960</td>\n",
       "      <td>11185</td>\n",
       "      <td>16203</td>\n",
       "      <td>7317</td>\n",
       "    </tr>\n",
       "    <tr>\n",
       "      <th>11</th>\n",
       "      <td>493679</td>\n",
       "      <td>10918</td>\n",
       "      <td>15257</td>\n",
       "      <td>7086</td>\n",
       "    </tr>\n",
       "    <tr>\n",
       "      <th>12</th>\n",
       "      <td>500036</td>\n",
       "      <td>9940</td>\n",
       "      <td>15025</td>\n",
       "      <td>6956</td>\n",
       "    </tr>\n",
       "    <tr>\n",
       "      <th>13</th>\n",
       "      <td>561513</td>\n",
       "      <td>11694</td>\n",
       "      <td>17419</td>\n",
       "      <td>7717</td>\n",
       "    </tr>\n",
       "    <tr>\n",
       "      <th>14</th>\n",
       "      <td>558246</td>\n",
       "      <td>11695</td>\n",
       "      <td>17067</td>\n",
       "      <td>7207</td>\n",
       "    </tr>\n",
       "    <tr>\n",
       "      <th>15</th>\n",
       "      <td>562238</td>\n",
       "      <td>12010</td>\n",
       "      <td>17289</td>\n",
       "      <td>7312</td>\n",
       "    </tr>\n",
       "    <tr>\n",
       "      <th>16</th>\n",
       "      <td>541846</td>\n",
       "      <td>11127</td>\n",
       "      <td>16304</td>\n",
       "      <td>6930</td>\n",
       "    </tr>\n",
       "    <tr>\n",
       "      <th>17</th>\n",
       "      <td>476369</td>\n",
       "      <td>9754</td>\n",
       "      <td>14515</td>\n",
       "      <td>5298</td>\n",
       "    </tr>\n",
       "    <tr>\n",
       "      <th>18</th>\n",
       "      <td>517078</td>\n",
       "      <td>10342</td>\n",
       "      <td>14823</td>\n",
       "      <td>5140</td>\n",
       "    </tr>\n",
       "    <tr>\n",
       "      <th>19</th>\n",
       "      <td>696035</td>\n",
       "      <td>13952</td>\n",
       "      <td>18853</td>\n",
       "      <td>6352</td>\n",
       "    </tr>\n",
       "    <tr>\n",
       "      <th>20</th>\n",
       "      <td>885669</td>\n",
       "      <td>16599</td>\n",
       "      <td>25021</td>\n",
       "      <td>7872</td>\n",
       "    </tr>\n",
       "    <tr>\n",
       "      <th>21</th>\n",
       "      <td>1030483</td>\n",
       "      <td>20397</td>\n",
       "      <td>30469</td>\n",
       "      <td>8829</td>\n",
       "    </tr>\n",
       "    <tr>\n",
       "      <th>22</th>\n",
       "      <td>1027269</td>\n",
       "      <td>20343</td>\n",
       "      <td>32504</td>\n",
       "      <td>8845</td>\n",
       "    </tr>\n",
       "    <tr>\n",
       "      <th>23</th>\n",
       "      <td>797754</td>\n",
       "      <td>17705</td>\n",
       "      <td>27434</td>\n",
       "      <td>6359</td>\n",
       "    </tr>\n",
       "  </tbody>\n",
       "</table>\n",
       "</div>"
      ],
      "text/plain": [
       "behavior_type       点击     收藏   加购物车    支付\n",
       "hour                                      \n",
       "0               487341  11062  14156  4845\n",
       "1               252991   6276   6712  1703\n",
       "2               139139   3311   3834   806\n",
       "3                93250   2282   2480   504\n",
       "4                75832   2010   2248   397\n",
       "5                83545   2062   2213   476\n",
       "6               150356   3651   3768  1023\n",
       "7               272470   5885   7044  1938\n",
       "8               374701   7849   9970  3586\n",
       "9               456781  10507  12956  5707\n",
       "10              515960  11185  16203  7317\n",
       "11              493679  10918  15257  7086\n",
       "12              500036   9940  15025  6956\n",
       "13              561513  11694  17419  7717\n",
       "14              558246  11695  17067  7207\n",
       "15              562238  12010  17289  7312\n",
       "16              541846  11127  16304  6930\n",
       "17              476369   9754  14515  5298\n",
       "18              517078  10342  14823  5140\n",
       "19              696035  13952  18853  6352\n",
       "20              885669  16599  25021  7872\n",
       "21             1030483  20397  30469  8829\n",
       "22             1027269  20343  32504  8845\n",
       "23              797754  17705  27434  6359"
      ]
     },
     "execution_count": 252,
     "metadata": {},
     "output_type": "execute_result"
    }
   ],
   "source": [
    "d_pv_h.rename(columns={\"1\": \"点击\", \"2\": \"收藏\", \"3\": \"加购物车\", \"4\": \"支付\"})"
   ]
  },
  {
   "cell_type": "code",
   "execution_count": 254,
   "metadata": {},
   "outputs": [
    {
     "data": {
      "image/png": "[encoded data removed]",
      "text/plain": [
       "<Figure size 720x288 with 1 Axes>"
      ]
     },
     "metadata": {},
     "output_type": "display_data"
    }
   ],
   "source": [
    "plt.figure(figsize=(10, 4))\n",
    "sns.lineplot(data=d_pv_h, lw=3)\n",
    "plt.show()"
   ]
  },
  {
   "cell_type": "code",
   "execution_count": 255,
   "metadata": {},
   "outputs": [
    {
     "data": {
      "image/png": "[encoded data removed]",
      "text/plain": [
       "<Figure size 720x288 with 1 Axes>"
      ]
     },
     "metadata": {},
     "output_type": "display_data"
    }
   ],
   "source": [
    "plt.figure(figsize=(10, 4))\n",
    "sns.lineplot(data=d_pv_h.iloc[:, 1:], lw=3)\n",
    "plt.show()"
   ]
  },
  {
   "cell_type": "markdown",
   "metadata": {},
   "source": [
    "用户行为类别1，2，3，4分别表示点击、收藏、加购物车、支付"
   ]
  },
  {
   "cell_type": "markdown",
   "metadata": {},
   "source": [
    "我们可以发现四种用户行为的波动情况基本一致，加购物车的数量高于收藏数"
   ]
  },
  {
   "cell_type": "markdown",
   "metadata": {},
   "source": [
    "计算各类行为间的流失率"
   ]
  },
  {
   "cell_type": "code",
   "execution_count": null,
   "metadata": {},
   "outputs": [],
   "source": [
    "# 计算各类行为间的流失率\n",
    "d_pv_h[\"1-2流失率\"] = (d_pv_h.iloc[:, 0] - d_pv_h.iloc[:, 1]) / d_pv_h.iloc[:, 0]\n",
    "d_pv_h[\"1-3流失率\"] = (d_pv_h.iloc[:, 0] - d_pv_h.iloc[:, 2]) / d_pv_h.iloc[:, 0]\n",
    "d_pv_h[\"2-4流失率\"] = (d_pv_h.iloc[:, 1] - d_pv_h.iloc[:, 3]) / d_pv_h.iloc[:, 1]\n",
    "d_pv_h[\"3-4流失率\"] = (d_pv_h.iloc[:, 2] - d_pv_h.iloc[:, 3]) / d_pv_h.iloc[:, 2]"
   ]
  },
  {
   "cell_type": "code",
   "execution_count": 276,
   "metadata": {},
   "outputs": [
    {
     "data": {
      "text/html": [
       "<div>\n",
       "<style scoped>\n",
       "    .dataframe tbody tr th:only-of-type {\n",
       "        vertical-align: middle;\n",
       "    }\n",
       "\n",
       "    .dataframe tbody tr th {\n",
       "        vertical-align: top;\n",
       "    }\n",
       "\n",
       "    .dataframe thead th {\n",
       "        text-align: right;\n",
       "    }\n",
       "</style>\n",
       "<table border=\"1\" class=\"dataframe\">\n",
       "  <thead>\n",
       "    <tr style=\"text-align: right;\">\n",
       "      <th>behavior_type</th>\n",
       "      <th>1</th>\n",
       "      <th>2</th>\n",
       "      <th>3</th>\n",
       "      <th>4</th>\n",
       "      <th>1-2流失率</th>\n",
       "      <th>1-3流失率</th>\n",
       "      <th>2-4流失率</th>\n",
       "      <th>3-4流失率</th>\n",
       "    </tr>\n",
       "    <tr>\n",
       "      <th>hour</th>\n",
       "      <th></th>\n",
       "      <th></th>\n",
       "      <th></th>\n",
       "      <th></th>\n",
       "      <th></th>\n",
       "      <th></th>\n",
       "      <th></th>\n",
       "      <th></th>\n",
       "    </tr>\n",
       "  </thead>\n",
       "  <tbody>\n",
       "    <tr>\n",
       "      <th>0</th>\n",
       "      <td>487341</td>\n",
       "      <td>11062</td>\n",
       "      <td>14156</td>\n",
       "      <td>4845</td>\n",
       "      <td>0.977301</td>\n",
       "      <td>0.970953</td>\n",
       "      <td>0.562014</td>\n",
       "      <td>0.657742</td>\n",
       "    </tr>\n",
       "    <tr>\n",
       "      <th>1</th>\n",
       "      <td>252991</td>\n",
       "      <td>6276</td>\n",
       "      <td>6712</td>\n",
       "      <td>1703</td>\n",
       "      <td>0.975193</td>\n",
       "      <td>0.973469</td>\n",
       "      <td>0.728649</td>\n",
       "      <td>0.746275</td>\n",
       "    </tr>\n",
       "    <tr>\n",
       "      <th>2</th>\n",
       "      <td>139139</td>\n",
       "      <td>3311</td>\n",
       "      <td>3834</td>\n",
       "      <td>806</td>\n",
       "      <td>0.976204</td>\n",
       "      <td>0.972445</td>\n",
       "      <td>0.756569</td>\n",
       "      <td>0.789776</td>\n",
       "    </tr>\n",
       "    <tr>\n",
       "      <th>3</th>\n",
       "      <td>93250</td>\n",
       "      <td>2282</td>\n",
       "      <td>2480</td>\n",
       "      <td>504</td>\n",
       "      <td>0.975528</td>\n",
       "      <td>0.973405</td>\n",
       "      <td>0.779141</td>\n",
       "      <td>0.796774</td>\n",
       "    </tr>\n",
       "    <tr>\n",
       "      <th>4</th>\n",
       "      <td>75832</td>\n",
       "      <td>2010</td>\n",
       "      <td>2248</td>\n",
       "      <td>397</td>\n",
       "      <td>0.973494</td>\n",
       "      <td>0.970356</td>\n",
       "      <td>0.802488</td>\n",
       "      <td>0.823399</td>\n",
       "    </tr>\n",
       "    <tr>\n",
       "      <th>5</th>\n",
       "      <td>83545</td>\n",
       "      <td>2062</td>\n",
       "      <td>2213</td>\n",
       "      <td>476</td>\n",
       "      <td>0.975319</td>\n",
       "      <td>0.973511</td>\n",
       "      <td>0.769156</td>\n",
       "      <td>0.784907</td>\n",
       "    </tr>\n",
       "    <tr>\n",
       "      <th>6</th>\n",
       "      <td>150356</td>\n",
       "      <td>3651</td>\n",
       "      <td>3768</td>\n",
       "      <td>1023</td>\n",
       "      <td>0.975718</td>\n",
       "      <td>0.974939</td>\n",
       "      <td>0.719803</td>\n",
       "      <td>0.728503</td>\n",
       "    </tr>\n",
       "    <tr>\n",
       "      <th>7</th>\n",
       "      <td>272470</td>\n",
       "      <td>5885</td>\n",
       "      <td>7044</td>\n",
       "      <td>1938</td>\n",
       "      <td>0.978401</td>\n",
       "      <td>0.974148</td>\n",
       "      <td>0.670688</td>\n",
       "      <td>0.724872</td>\n",
       "    </tr>\n",
       "    <tr>\n",
       "      <th>8</th>\n",
       "      <td>374701</td>\n",
       "      <td>7849</td>\n",
       "      <td>9970</td>\n",
       "      <td>3586</td>\n",
       "      <td>0.979053</td>\n",
       "      <td>0.973392</td>\n",
       "      <td>0.543127</td>\n",
       "      <td>0.640321</td>\n",
       "    </tr>\n",
       "    <tr>\n",
       "      <th>9</th>\n",
       "      <td>456781</td>\n",
       "      <td>10507</td>\n",
       "      <td>12956</td>\n",
       "      <td>5707</td>\n",
       "      <td>0.976998</td>\n",
       "      <td>0.971636</td>\n",
       "      <td>0.456838</td>\n",
       "      <td>0.559509</td>\n",
       "    </tr>\n",
       "    <tr>\n",
       "      <th>10</th>\n",
       "      <td>515960</td>\n",
       "      <td>11185</td>\n",
       "      <td>16203</td>\n",
       "      <td>7317</td>\n",
       "      <td>0.978322</td>\n",
       "      <td>0.968596</td>\n",
       "      <td>0.345820</td>\n",
       "      <td>0.548417</td>\n",
       "    </tr>\n",
       "    <tr>\n",
       "      <th>11</th>\n",
       "      <td>493679</td>\n",
       "      <td>10918</td>\n",
       "      <td>15257</td>\n",
       "      <td>7086</td>\n",
       "      <td>0.977884</td>\n",
       "      <td>0.969095</td>\n",
       "      <td>0.350980</td>\n",
       "      <td>0.535557</td>\n",
       "    </tr>\n",
       "    <tr>\n",
       "      <th>12</th>\n",
       "      <td>500036</td>\n",
       "      <td>9940</td>\n",
       "      <td>15025</td>\n",
       "      <td>6956</td>\n",
       "      <td>0.980121</td>\n",
       "      <td>0.969952</td>\n",
       "      <td>0.300201</td>\n",
       "      <td>0.537038</td>\n",
       "    </tr>\n",
       "    <tr>\n",
       "      <th>13</th>\n",
       "      <td>561513</td>\n",
       "      <td>11694</td>\n",
       "      <td>17419</td>\n",
       "      <td>7717</td>\n",
       "      <td>0.979174</td>\n",
       "      <td>0.968978</td>\n",
       "      <td>0.340089</td>\n",
       "      <td>0.556978</td>\n",
       "    </tr>\n",
       "    <tr>\n",
       "      <th>14</th>\n",
       "      <td>558246</td>\n",
       "      <td>11695</td>\n",
       "      <td>17067</td>\n",
       "      <td>7207</td>\n",
       "      <td>0.979050</td>\n",
       "      <td>0.969427</td>\n",
       "      <td>0.383754</td>\n",
       "      <td>0.577723</td>\n",
       "    </tr>\n",
       "    <tr>\n",
       "      <th>15</th>\n",
       "      <td>562238</td>\n",
       "      <td>12010</td>\n",
       "      <td>17289</td>\n",
       "      <td>7312</td>\n",
       "      <td>0.978639</td>\n",
       "      <td>0.969250</td>\n",
       "      <td>0.391174</td>\n",
       "      <td>0.577072</td>\n",
       "    </tr>\n",
       "    <tr>\n",
       "      <th>16</th>\n",
       "      <td>541846</td>\n",
       "      <td>11127</td>\n",
       "      <td>16304</td>\n",
       "      <td>6930</td>\n",
       "      <td>0.979465</td>\n",
       "      <td>0.969910</td>\n",
       "      <td>0.377191</td>\n",
       "      <td>0.574951</td>\n",
       "    </tr>\n",
       "    <tr>\n",
       "      <th>17</th>\n",
       "      <td>476369</td>\n",
       "      <td>9754</td>\n",
       "      <td>14515</td>\n",
       "      <td>5298</td>\n",
       "      <td>0.979524</td>\n",
       "      <td>0.969530</td>\n",
       "      <td>0.456838</td>\n",
       "      <td>0.634998</td>\n",
       "    </tr>\n",
       "    <tr>\n",
       "      <th>18</th>\n",
       "      <td>517078</td>\n",
       "      <td>10342</td>\n",
       "      <td>14823</td>\n",
       "      <td>5140</td>\n",
       "      <td>0.979999</td>\n",
       "      <td>0.971333</td>\n",
       "      <td>0.502997</td>\n",
       "      <td>0.653242</td>\n",
       "    </tr>\n",
       "    <tr>\n",
       "      <th>19</th>\n",
       "      <td>696035</td>\n",
       "      <td>13952</td>\n",
       "      <td>18853</td>\n",
       "      <td>6352</td>\n",
       "      <td>0.979955</td>\n",
       "      <td>0.972914</td>\n",
       "      <td>0.544725</td>\n",
       "      <td>0.663077</td>\n",
       "    </tr>\n",
       "    <tr>\n",
       "      <th>20</th>\n",
       "      <td>885669</td>\n",
       "      <td>16599</td>\n",
       "      <td>25021</td>\n",
       "      <td>7872</td>\n",
       "      <td>0.981258</td>\n",
       "      <td>0.971749</td>\n",
       "      <td>0.525755</td>\n",
       "      <td>0.685384</td>\n",
       "    </tr>\n",
       "    <tr>\n",
       "      <th>21</th>\n",
       "      <td>1030483</td>\n",
       "      <td>20397</td>\n",
       "      <td>30469</td>\n",
       "      <td>8829</td>\n",
       "      <td>0.980206</td>\n",
       "      <td>0.970432</td>\n",
       "      <td>0.567142</td>\n",
       "      <td>0.710230</td>\n",
       "    </tr>\n",
       "    <tr>\n",
       "      <th>22</th>\n",
       "      <td>1027269</td>\n",
       "      <td>20343</td>\n",
       "      <td>32504</td>\n",
       "      <td>8845</td>\n",
       "      <td>0.980197</td>\n",
       "      <td>0.968359</td>\n",
       "      <td>0.565207</td>\n",
       "      <td>0.727880</td>\n",
       "    </tr>\n",
       "    <tr>\n",
       "      <th>23</th>\n",
       "      <td>797754</td>\n",
       "      <td>17705</td>\n",
       "      <td>27434</td>\n",
       "      <td>6359</td>\n",
       "      <td>0.977806</td>\n",
       "      <td>0.965611</td>\n",
       "      <td>0.640836</td>\n",
       "      <td>0.768207</td>\n",
       "    </tr>\n",
       "  </tbody>\n",
       "</table>\n",
       "</div>"
      ],
      "text/plain": [
       "behavior_type        1      2      3     4    1-2流失率    1-3流失率    2-4流失率  \\\n",
       "hour                                                                       \n",
       "0               487341  11062  14156  4845  0.977301  0.970953  0.562014   \n",
       "1               252991   6276   6712  1703  0.975193  0.973469  0.728649   \n",
       "2               139139   3311   3834   806  0.976204  0.972445  0.756569   \n",
       "3                93250   2282   2480   504  0.975528  0.973405  0.779141   \n",
       "4                75832   2010   2248   397  0.973494  0.970356  0.802488   \n",
       "5                83545   2062   2213   476  0.975319  0.973511  0.769156   \n",
       "6               150356   3651   3768  1023  0.975718  0.974939  0.719803   \n",
       "7               272470   5885   7044  1938  0.978401  0.974148  0.670688   \n",
       "8               374701   7849   9970  3586  0.979053  0.973392  0.543127   \n",
       "9               456781  10507  12956  5707  0.976998  0.971636  0.456838   \n",
       "10              515960  11185  16203  7317  0.978322  0.968596  0.345820   \n",
       "11              493679  10918  15257  7086  0.977884  0.969095  0.350980   \n",
       "12              500036   9940  15025  6956  0.980121  0.969952  0.300201   \n",
       "13              561513  11694  17419  7717  0.979174  0.968978  0.340089   \n",
       "14              558246  11695  17067  7207  0.979050  0.969427  0.383754   \n",
       "15              562238  12010  17289  7312  0.978639  0.969250  0.391174   \n",
       "16              541846  11127  16304  6930  0.979465  0.969910  0.377191   \n",
       "17              476369   9754  14515  5298  0.979524  0.969530  0.456838   \n",
       "18              517078  10342  14823  5140  0.979999  0.971333  0.502997   \n",
       "19              696035  13952  18853  6352  0.979955  0.972914  0.544725   \n",
       "20              885669  16599  25021  7872  0.981258  0.971749  0.525755   \n",
       "21             1030483  20397  30469  8829  0.980206  0.970432  0.567142   \n",
       "22             1027269  20343  32504  8845  0.980197  0.968359  0.565207   \n",
       "23              797754  17705  27434  6359  0.977806  0.965611  0.640836   \n",
       "\n",
       "behavior_type    3-4流失率  \n",
       "hour                     \n",
       "0              0.657742  \n",
       "1              0.746275  \n",
       "2              0.789776  \n",
       "3              0.796774  \n",
       "4              0.823399  \n",
       "5              0.784907  \n",
       "6              0.728503  \n",
       "7              0.724872  \n",
       "8              0.640321  \n",
       "9              0.559509  \n",
       "10             0.548417  \n",
       "11             0.535557  \n",
       "12             0.537038  \n",
       "13             0.556978  \n",
       "14             0.577723  \n",
       "15             0.577072  \n",
       "16             0.574951  \n",
       "17             0.634998  \n",
       "18             0.653242  \n",
       "19             0.663077  \n",
       "20             0.685384  \n",
       "21             0.710230  \n",
       "22             0.727880  \n",
       "23             0.768207  "
      ]
     },
     "execution_count": 276,
     "metadata": {},
     "output_type": "execute_result"
    }
   ],
   "source": [
    "d_pv_h"
   ]
  },
  {
   "cell_type": "markdown",
   "metadata": {},
   "source": [
    "获取有支付行为的客户信息"
   ]
  },
  {
   "cell_type": "code",
   "execution_count": 285,
   "metadata": {},
   "outputs": [
    {
     "data": {
      "image/png": "[encoded data removed]",
      "text/plain": [
       "<Figure size 720x576 with 2 Axes>"
      ]
     },
     "metadata": {},
     "output_type": "display_data"
    }
   ],
   "source": [
    "# 获取有支付行为的客户信息\n",
    "plt.figure(figsize=(10, 8))\n",
    "plt.subplot(211)\n",
    "sns.lineplot(data=d_pv_h.iloc[:, 4:6], lw=3)\n",
    "plt.subplot(212)\n",
    "sns.lineplot(data=d_pv_h.iloc[:, 6:], lw=3)\n",
    "plt.show()"
   ]
  },
  {
   "cell_type": "markdown",
   "metadata": {},
   "source": [
    "我们能够看到在点击到加购物车和点击到收藏行为间的流失率基本稳定在97.7%左右；在10-15日期间从收藏到支付与从加购物车到支付的流失率较低。\n",
    "\n",
    "刚开始接触到这类指标，可能得不到多少有效的结论。但不用担心，数据收集和分析持续一段时间后，数据会稳定，你也会适应应用特有的数据分布模式。若是没有这个积累过程，就算面对一个用户严重流失的层次，你也可能完全说不出个所以然。\n",
    "\n",
    "在获得基线之后，我们可以将数据与基线比较，衡量改动。改进之后，重新收集相关数据。为积累足够访问量，收集过程需要相当时间。获得的数据能清楚地表明改动的效果：若改动后，用户流失比原来小了，那就说明改动成功。相反则需重新考虑设计。"
   ]
  },
  {
   "cell_type": "markdown",
   "metadata": {},
   "source": [
    "### 消费行为分析"
   ]
  },
  {
   "cell_type": "markdown",
   "metadata": {},
   "source": [
    "#### 购买频次分析"
   ]
  },
  {
   "cell_type": "markdown",
   "metadata": {},
   "source": [
    "获取有支付行为的客户信息"
   ]
  },
  {
   "cell_type": "code",
   "execution_count": 294,
   "metadata": {},
   "outputs": [],
   "source": [
    "dt_buy = dt[dt.behavior_type==\"4\"]"
   ]
  },
  {
   "cell_type": "code",
   "execution_count": 295,
   "metadata": {},
   "outputs": [
    {
     "data": {
      "text/html": [
       "<div>\n",
       "<style scoped>\n",
       "    .dataframe tbody tr th:only-of-type {\n",
       "        vertical-align: middle;\n",
       "    }\n",
       "\n",
       "    .dataframe tbody tr th {\n",
       "        vertical-align: top;\n",
       "    }\n",
       "\n",
       "    .dataframe thead th {\n",
       "        text-align: right;\n",
       "    }\n",
       "</style>\n",
       "<table border=\"1\" class=\"dataframe\">\n",
       "  <thead>\n",
       "    <tr style=\"text-align: right;\">\n",
       "      <th></th>\n",
       "      <th>user_id</th>\n",
       "      <th>item_id</th>\n",
       "      <th>behavior_type</th>\n",
       "      <th>user_geohash</th>\n",
       "      <th>item_category</th>\n",
       "      <th>time</th>\n",
       "      <th>date</th>\n",
       "      <th>hour</th>\n",
       "    </tr>\n",
       "  </thead>\n",
       "  <tbody>\n",
       "    <tr>\n",
       "      <th>2495275</th>\n",
       "      <td>101601722</td>\n",
       "      <td>34047414</td>\n",
       "      <td>4</td>\n",
       "      <td>NaN</td>\n",
       "      <td>3628</td>\n",
       "      <td>2014-11-24 22:00:00</td>\n",
       "      <td>2014-11-24</td>\n",
       "      <td>22</td>\n",
       "    </tr>\n",
       "    <tr>\n",
       "      <th>4498818</th>\n",
       "      <td>121456686</td>\n",
       "      <td>263967408</td>\n",
       "      <td>4</td>\n",
       "      <td>NaN</td>\n",
       "      <td>9885</td>\n",
       "      <td>2014-11-30 14:00:00</td>\n",
       "      <td>2014-11-30</td>\n",
       "      <td>14</td>\n",
       "    </tr>\n",
       "    <tr>\n",
       "      <th>675580</th>\n",
       "      <td>114497121</td>\n",
       "      <td>9517999</td>\n",
       "      <td>4</td>\n",
       "      <td>NaN</td>\n",
       "      <td>5699</td>\n",
       "      <td>2014-11-19 22:00:00</td>\n",
       "      <td>2014-11-19</td>\n",
       "      <td>22</td>\n",
       "    </tr>\n",
       "    <tr>\n",
       "      <th>10087048</th>\n",
       "      <td>137760555</td>\n",
       "      <td>152460064</td>\n",
       "      <td>4</td>\n",
       "      <td>NaN</td>\n",
       "      <td>2513</td>\n",
       "      <td>2014-12-13 15:00:00</td>\n",
       "      <td>2014-12-13</td>\n",
       "      <td>15</td>\n",
       "    </tr>\n",
       "    <tr>\n",
       "      <th>1640944</th>\n",
       "      <td>132039263</td>\n",
       "      <td>28241579</td>\n",
       "      <td>4</td>\n",
       "      <td>NaN</td>\n",
       "      <td>11406</td>\n",
       "      <td>2014-11-22 19:00:00</td>\n",
       "      <td>2014-11-22</td>\n",
       "      <td>19</td>\n",
       "    </tr>\n",
       "  </tbody>\n",
       "</table>\n",
       "</div>"
      ],
      "text/plain": [
       "            user_id    item_id behavior_type user_geohash item_category  \\\n",
       "2495275   101601722   34047414             4          NaN          3628   \n",
       "4498818   121456686  263967408             4          NaN          9885   \n",
       "675580    114497121    9517999             4          NaN          5699   \n",
       "10087048  137760555  152460064             4          NaN          2513   \n",
       "1640944   132039263   28241579             4          NaN         11406   \n",
       "\n",
       "                        time       date  hour  \n",
       "2495275  2014-11-24 22:00:00 2014-11-24    22  \n",
       "4498818  2014-11-30 14:00:00 2014-11-30    14  \n",
       "675580   2014-11-19 22:00:00 2014-11-19    22  \n",
       "10087048 2014-12-13 15:00:00 2014-12-13    15  \n",
       "1640944  2014-11-22 19:00:00 2014-11-22    19  "
      ]
     },
     "execution_count": 295,
     "metadata": {},
     "output_type": "execute_result"
    }
   ],
   "source": [
    "dt_buy.sample(5)"
   ]
  },
  {
   "cell_type": "markdown",
   "metadata": {},
   "source": [
    "获取客户消费次数"
   ]
  },
  {
   "cell_type": "code",
   "execution_count": 296,
   "metadata": {},
   "outputs": [],
   "source": [
    "# 获取客户消费次数\n",
    "buy_c = dt_buy.groupby(\"user_id\").size()"
   ]
  },
  {
   "cell_type": "code",
   "execution_count": 298,
   "metadata": {},
   "outputs": [
    {
     "data": {
      "text/plain": [
       "user_id\n",
       "20487789     12\n",
       "3791755       1\n",
       "62871223      1\n",
       "61779777      2\n",
       "50698254      9\n",
       "134118557     6\n",
       "110374516    10\n",
       "94335711      2\n",
       "1344672       1\n",
       "48304965      2\n",
       "dtype: int64"
      ]
     },
     "execution_count": 298,
     "metadata": {},
     "output_type": "execute_result"
    }
   ],
   "source": [
    "buy_c.sample(10)"
   ]
  },
  {
   "cell_type": "code",
   "execution_count": 302,
   "metadata": {
    "scrolled": true
   },
   "outputs": [
    {
     "data": {
      "text/plain": [
       "count    8886.000000\n",
       "mean       13.527459\n",
       "std        19.698786\n",
       "min         1.000000\n",
       "25%         4.000000\n",
       "50%         8.000000\n",
       "75%        17.000000\n",
       "max       809.000000\n",
       "dtype: float64"
      ]
     },
     "execution_count": 302,
     "metadata": {},
     "output_type": "execute_result"
    }
   ],
   "source": [
    "buy_c.describe()"
   ]
  },
  {
   "cell_type": "markdown",
   "metadata": {},
   "source": [
    "从以上统计可以看出，用户平均购买次数为13.5次，标准差19.6，具有一定波动性。中位数是8次，75分位数是17次，说明用户购买次数大部分都在20次以下。而最大值是809次，这差别有点大。\n",
    "- 一般情况，消费类型的数据分布，大部分呈现的是长尾形态；绝大多数用户是低频次消费客群，但用户贡献率集中在少数分群里，符合二八法则。"
   ]
  },
  {
   "cell_type": "code",
   "execution_count": 303,
   "metadata": {},
   "outputs": [
    {
     "data": {
      "image/png": "[encoded data removed]",
      "text/plain": [
       "<Figure size 432x288 with 1 Axes>"
      ]
     },
     "metadata": {},
     "output_type": "display_data"
    }
   ],
   "source": [
    "plt.hist(x=buy_c,bins=100)\n",
    "plt.show()"
   ]
  },
  {
   "cell_type": "code",
   "execution_count": 306,
   "metadata": {},
   "outputs": [
    {
     "data": {
      "text/plain": [
       "(array([2047., 1552., 1248.,  937.,  666.,  491.,  368.,  301.,  222.,\n",
       "         172.]),\n",
       " array([ 1. ,  3.9,  6.8,  9.7, 12.6, 15.5, 18.4, 21.3, 24.2, 27.1, 30. ]),\n",
       " <a list of 10 Patch objects>)"
      ]
     },
     "execution_count": 306,
     "metadata": {},
     "output_type": "execute_result"
    },
    {
     "data": {
      "image/png": "[encoded data removed]",
      "text/plain": [
       "<Figure size 432x288 with 1 Axes>"
      ]
     },
     "metadata": {},
     "output_type": "display_data"
    }
   ],
   "source": [
    "plt.hist(x=buy_c[buy_c.values<=30],bins=10)"
   ]
  },
  {
   "cell_type": "markdown",
   "metadata": {},
   "source": [
    "#### 日ARPPU分析"
   ]
  },
  {
   "cell_type": "markdown",
   "metadata": {},
   "source": [
    "ARPPU（average revenue per paying user）是指从每位付费用户身上获得的收入，即统计周期内，付费用户对产品产生的平均收入\n",
    "\n",
    "ARPPU = 总收入 / 付费用户数\n",
    "\n",
    "因数据集中没有消费金额信息，本次采用消费次数代替消费金额\n"
   ]
  },
  {
   "cell_type": "markdown",
   "metadata": {},
   "source": [
    "人均消费次数 = 消费总次数 / 消费总人次数"
   ]
  },
  {
   "cell_type": "code",
   "execution_count": 331,
   "metadata": {},
   "outputs": [],
   "source": [
    "# 人均消费次数 = 消费总次数 / 消费总人次数\n",
    "dt_arppu = dt[dt.behavior_type == \"4\"].groupby(\n",
    "    [\"date\", \"user_id\"])[\"behavior_type\"].count().reset_index().rename(\n",
    "        columns={\"behavior_type\": \"buy_count\"})"
   ]
  },
  {
   "cell_type": "code",
   "execution_count": 332,
   "metadata": {},
   "outputs": [
    {
     "data": {
      "text/html": [
       "<div>\n",
       "<style scoped>\n",
       "    .dataframe tbody tr th:only-of-type {\n",
       "        vertical-align: middle;\n",
       "    }\n",
       "\n",
       "    .dataframe tbody tr th {\n",
       "        vertical-align: top;\n",
       "    }\n",
       "\n",
       "    .dataframe thead th {\n",
       "        text-align: right;\n",
       "    }\n",
       "</style>\n",
       "<table border=\"1\" class=\"dataframe\">\n",
       "  <thead>\n",
       "    <tr style=\"text-align: right;\">\n",
       "      <th></th>\n",
       "      <th>date</th>\n",
       "      <th>user_id</th>\n",
       "      <th>buy_count</th>\n",
       "    </tr>\n",
       "  </thead>\n",
       "  <tbody>\n",
       "    <tr>\n",
       "      <th>23176</th>\n",
       "      <td>2014-12-03</td>\n",
       "      <td>3141933</td>\n",
       "      <td>3</td>\n",
       "    </tr>\n",
       "    <tr>\n",
       "      <th>20672</th>\n",
       "      <td>2014-12-01</td>\n",
       "      <td>92780565</td>\n",
       "      <td>1</td>\n",
       "    </tr>\n",
       "    <tr>\n",
       "      <th>726</th>\n",
       "      <td>2014-11-18</td>\n",
       "      <td>31663890</td>\n",
       "      <td>1</td>\n",
       "    </tr>\n",
       "    <tr>\n",
       "      <th>9891</th>\n",
       "      <td>2014-11-24</td>\n",
       "      <td>70891589</td>\n",
       "      <td>1</td>\n",
       "    </tr>\n",
       "    <tr>\n",
       "      <th>10118</th>\n",
       "      <td>2014-11-24</td>\n",
       "      <td>89261071</td>\n",
       "      <td>1</td>\n",
       "    </tr>\n",
       "    <tr>\n",
       "      <th>46671</th>\n",
       "      <td>2014-12-17</td>\n",
       "      <td>22981352</td>\n",
       "      <td>1</td>\n",
       "    </tr>\n",
       "    <tr>\n",
       "      <th>20587</th>\n",
       "      <td>2014-12-01</td>\n",
       "      <td>86323571</td>\n",
       "      <td>1</td>\n",
       "    </tr>\n",
       "    <tr>\n",
       "      <th>25053</th>\n",
       "      <td>2014-12-04</td>\n",
       "      <td>54214799</td>\n",
       "      <td>1</td>\n",
       "    </tr>\n",
       "    <tr>\n",
       "      <th>15754</th>\n",
       "      <td>2014-11-28</td>\n",
       "      <td>61114029</td>\n",
       "      <td>1</td>\n",
       "    </tr>\n",
       "    <tr>\n",
       "      <th>18632</th>\n",
       "      <td>2014-11-30</td>\n",
       "      <td>61754447</td>\n",
       "      <td>1</td>\n",
       "    </tr>\n",
       "  </tbody>\n",
       "</table>\n",
       "</div>"
      ],
      "text/plain": [
       "            date   user_id  buy_count\n",
       "23176 2014-12-03   3141933          3\n",
       "20672 2014-12-01  92780565          1\n",
       "726   2014-11-18  31663890          1\n",
       "9891  2014-11-24  70891589          1\n",
       "10118 2014-11-24  89261071          1\n",
       "46671 2014-12-17  22981352          1\n",
       "20587 2014-12-01  86323571          1\n",
       "25053 2014-12-04  54214799          1\n",
       "15754 2014-11-28  61114029          1\n",
       "18632 2014-11-30  61754447          1"
      ]
     },
     "execution_count": 332,
     "metadata": {},
     "output_type": "execute_result"
    }
   ],
   "source": [
    "dt_arppu.sample(10)"
   ]
  },
  {
   "cell_type": "code",
   "execution_count": 329,
   "metadata": {},
   "outputs": [
    {
     "data": {
      "text/html": [
       "<div>\n",
       "<style scoped>\n",
       "    .dataframe tbody tr th:only-of-type {\n",
       "        vertical-align: middle;\n",
       "    }\n",
       "\n",
       "    .dataframe tbody tr th {\n",
       "        vertical-align: top;\n",
       "    }\n",
       "\n",
       "    .dataframe thead th {\n",
       "        text-align: right;\n",
       "    }\n",
       "</style>\n",
       "<table border=\"1\" class=\"dataframe\">\n",
       "  <thead>\n",
       "    <tr style=\"text-align: right;\">\n",
       "      <th></th>\n",
       "      <th>buy_count</th>\n",
       "    </tr>\n",
       "  </thead>\n",
       "  <tbody>\n",
       "    <tr>\n",
       "      <th>count</th>\n",
       "      <td>49201.000000</td>\n",
       "    </tr>\n",
       "    <tr>\n",
       "      <th>mean</th>\n",
       "      <td>2.443141</td>\n",
       "    </tr>\n",
       "    <tr>\n",
       "      <th>std</th>\n",
       "      <td>3.307288</td>\n",
       "    </tr>\n",
       "    <tr>\n",
       "      <th>min</th>\n",
       "      <td>1.000000</td>\n",
       "    </tr>\n",
       "    <tr>\n",
       "      <th>25%</th>\n",
       "      <td>1.000000</td>\n",
       "    </tr>\n",
       "    <tr>\n",
       "      <th>50%</th>\n",
       "      <td>1.000000</td>\n",
       "    </tr>\n",
       "    <tr>\n",
       "      <th>75%</th>\n",
       "      <td>3.000000</td>\n",
       "    </tr>\n",
       "    <tr>\n",
       "      <th>max</th>\n",
       "      <td>185.000000</td>\n",
       "    </tr>\n",
       "  </tbody>\n",
       "</table>\n",
       "</div>"
      ],
      "text/plain": [
       "          buy_count\n",
       "count  49201.000000\n",
       "mean       2.443141\n",
       "std        3.307288\n",
       "min        1.000000\n",
       "25%        1.000000\n",
       "50%        1.000000\n",
       "75%        3.000000\n",
       "max      185.000000"
      ]
     },
     "execution_count": 329,
     "metadata": {},
     "output_type": "execute_result"
    }
   ],
   "source": [
    "dt_arppu.describe()"
   ]
  },
  {
   "cell_type": "markdown",
   "metadata": {},
   "source": [
    "计算ARPPU"
   ]
  },
  {
   "cell_type": "code",
   "execution_count": 345,
   "metadata": {},
   "outputs": [],
   "source": [
    "# ARPPU = 每日消费总次数除以消费总人数\n",
    "ARPPU = pd.DataFrame(\n",
    "    dt_arppu.groupby(\"date\").sum()[\"buy_count\"] /\n",
    "    dt_arppu.groupby(\"date\").count()[\"buy_count\"]).rename(\n",
    "        columns={\"buy_count\": \"ARPPU\"})"
   ]
  },
  {
   "cell_type": "code",
   "execution_count": 346,
   "metadata": {},
   "outputs": [
    {
     "data": {
      "text/html": [
       "<div>\n",
       "<style scoped>\n",
       "    .dataframe tbody tr th:only-of-type {\n",
       "        vertical-align: middle;\n",
       "    }\n",
       "\n",
       "    .dataframe tbody tr th {\n",
       "        vertical-align: top;\n",
       "    }\n",
       "\n",
       "    .dataframe thead th {\n",
       "        text-align: right;\n",
       "    }\n",
       "</style>\n",
       "<table border=\"1\" class=\"dataframe\">\n",
       "  <thead>\n",
       "    <tr style=\"text-align: right;\">\n",
       "      <th></th>\n",
       "      <th>ARPPU</th>\n",
       "    </tr>\n",
       "  </thead>\n",
       "  <tbody>\n",
       "    <tr>\n",
       "      <th>count</th>\n",
       "      <td>31.000000</td>\n",
       "    </tr>\n",
       "    <tr>\n",
       "      <th>mean</th>\n",
       "      <td>2.368446</td>\n",
       "    </tr>\n",
       "    <tr>\n",
       "      <th>std</th>\n",
       "      <td>0.296108</td>\n",
       "    </tr>\n",
       "    <tr>\n",
       "      <th>min</th>\n",
       "      <td>2.204384</td>\n",
       "    </tr>\n",
       "    <tr>\n",
       "      <th>25%</th>\n",
       "      <td>2.262436</td>\n",
       "    </tr>\n",
       "    <tr>\n",
       "      <th>50%</th>\n",
       "      <td>2.313460</td>\n",
       "    </tr>\n",
       "    <tr>\n",
       "      <th>75%</th>\n",
       "      <td>2.358159</td>\n",
       "    </tr>\n",
       "    <tr>\n",
       "      <th>max</th>\n",
       "      <td>3.913523</td>\n",
       "    </tr>\n",
       "  </tbody>\n",
       "</table>\n",
       "</div>"
      ],
      "text/plain": [
       "           ARPPU\n",
       "count  31.000000\n",
       "mean    2.368446\n",
       "std     0.296108\n",
       "min     2.204384\n",
       "25%     2.262436\n",
       "50%     2.313460\n",
       "75%     2.358159\n",
       "max     3.913523"
      ]
     },
     "execution_count": 346,
     "metadata": {},
     "output_type": "execute_result"
    }
   ],
   "source": [
    "ARPPU.describe()"
   ]
  },
  {
   "cell_type": "code",
   "execution_count": 347,
   "metadata": {},
   "outputs": [
    {
     "data": {
      "text/plain": [
       "<matplotlib.axes._subplots.AxesSubplot at 0x1faa0a64518>"
      ]
     },
     "execution_count": 347,
     "metadata": {},
     "output_type": "execute_result"
    },
    {
     "data": {
      "image/png": "[encoded data removed]",
      "text/plain": [
       "<Figure size 432x288 with 1 Axes>"
      ]
     },
     "metadata": {},
     "output_type": "display_data"
    }
   ],
   "source": [
    "ARPPU.plot()"
   ]
  },
  {
   "cell_type": "markdown",
   "metadata": {},
   "source": [
    "绝大部分消费客户每天消费次数在3次以内，双十二期间达到峰值"
   ]
  },
  {
   "cell_type": "markdown",
   "metadata": {},
   "source": [
    "#### 日ARPU情况分析"
   ]
  },
  {
   "cell_type": "markdown",
   "metadata": {},
   "source": [
    "ARPU值 (每用户平均收入,Average Revenue Per User) 就是指每用户平均收入。ARPU注重的是一个时间段内运营商从每个用户所得到的利润。很明显，高端的用户越多，ARPU越高。在这个时间段，从运营商的运营情况来看，ARPU值高说明利润高，这段时间效益好。它可以衡量产品的盈利和发展活力。\n",
    "\n",
    "ARPU = 消费总收入 / 用户数\n",
    "\n",
    "因数据集中没有消费金额信息，本次采用消费次数代替消费金额"
   ]
  },
  {
   "cell_type": "code",
   "execution_count": 349,
   "metadata": {},
   "outputs": [],
   "source": [
    "# 新增一列以便记录各行为次数\n",
    "dt[\"behavior_count\"] = 1"
   ]
  },
  {
   "cell_type": "code",
   "execution_count": 350,
   "metadata": {
    "scrolled": false
   },
   "outputs": [
    {
     "data": {
      "text/html": [
       "<div>\n",
       "<style scoped>\n",
       "    .dataframe tbody tr th:only-of-type {\n",
       "        vertical-align: middle;\n",
       "    }\n",
       "\n",
       "    .dataframe tbody tr th {\n",
       "        vertical-align: top;\n",
       "    }\n",
       "\n",
       "    .dataframe thead th {\n",
       "        text-align: right;\n",
       "    }\n",
       "</style>\n",
       "<table border=\"1\" class=\"dataframe\">\n",
       "  <thead>\n",
       "    <tr style=\"text-align: right;\">\n",
       "      <th></th>\n",
       "      <th>user_id</th>\n",
       "      <th>item_id</th>\n",
       "      <th>behavior_type</th>\n",
       "      <th>user_geohash</th>\n",
       "      <th>item_category</th>\n",
       "      <th>time</th>\n",
       "      <th>date</th>\n",
       "      <th>hour</th>\n",
       "      <th>behavior_count</th>\n",
       "    </tr>\n",
       "  </thead>\n",
       "  <tbody>\n",
       "    <tr>\n",
       "      <th>10017159</th>\n",
       "      <td>117929882</td>\n",
       "      <td>313405220</td>\n",
       "      <td>1</td>\n",
       "      <td>95rilhv</td>\n",
       "      <td>10392</td>\n",
       "      <td>2014-12-13 11:00:00</td>\n",
       "      <td>2014-12-13</td>\n",
       "      <td>11</td>\n",
       "      <td>1</td>\n",
       "    </tr>\n",
       "    <tr>\n",
       "      <th>7263735</th>\n",
       "      <td>111073682</td>\n",
       "      <td>26727890</td>\n",
       "      <td>1</td>\n",
       "      <td>NaN</td>\n",
       "      <td>13041</td>\n",
       "      <td>2014-12-07 13:00:00</td>\n",
       "      <td>2014-12-07</td>\n",
       "      <td>13</td>\n",
       "      <td>1</td>\n",
       "    </tr>\n",
       "    <tr>\n",
       "      <th>4786992</th>\n",
       "      <td>67759870</td>\n",
       "      <td>179797004</td>\n",
       "      <td>1</td>\n",
       "      <td>NaN</td>\n",
       "      <td>12982</td>\n",
       "      <td>2014-12-01 07:00:00</td>\n",
       "      <td>2014-12-01</td>\n",
       "      <td>7</td>\n",
       "      <td>1</td>\n",
       "    </tr>\n",
       "  </tbody>\n",
       "</table>\n",
       "</div>"
      ],
      "text/plain": [
       "            user_id    item_id behavior_type user_geohash item_category  \\\n",
       "10017159  117929882  313405220             1      95rilhv         10392   \n",
       "7263735   111073682   26727890             1          NaN         13041   \n",
       "4786992    67759870  179797004             1          NaN         12982   \n",
       "\n",
       "                        time       date  hour  behavior_count  \n",
       "10017159 2014-12-13 11:00:00 2014-12-13    11               1  \n",
       "7263735  2014-12-07 13:00:00 2014-12-07    13               1  \n",
       "4786992  2014-12-01 07:00:00 2014-12-01     7               1  "
      ]
     },
     "execution_count": 350,
     "metadata": {},
     "output_type": "execute_result"
    }
   ],
   "source": [
    "dt.sample(3)"
   ]
  },
  {
   "cell_type": "code",
   "execution_count": 354,
   "metadata": {},
   "outputs": [],
   "source": [
    "dt_arpu = dt.groupby([\"date\", \"user_id\", \"behavior_type\"\n",
    "                      ])[\"behavior_count\"].count().reset_index()"
   ]
  },
  {
   "cell_type": "code",
   "execution_count": 377,
   "metadata": {},
   "outputs": [
    {
     "data": {
      "text/html": [
       "<div>\n",
       "<style scoped>\n",
       "    .dataframe tbody tr th:only-of-type {\n",
       "        vertical-align: middle;\n",
       "    }\n",
       "\n",
       "    .dataframe tbody tr th {\n",
       "        vertical-align: top;\n",
       "    }\n",
       "\n",
       "    .dataframe thead th {\n",
       "        text-align: right;\n",
       "    }\n",
       "</style>\n",
       "<table border=\"1\" class=\"dataframe\">\n",
       "  <thead>\n",
       "    <tr style=\"text-align: right;\">\n",
       "      <th></th>\n",
       "      <th>date</th>\n",
       "      <th>user_id</th>\n",
       "      <th>behavior_type</th>\n",
       "      <th>behavior_count</th>\n",
       "    </tr>\n",
       "  </thead>\n",
       "  <tbody>\n",
       "    <tr>\n",
       "      <th>364514</th>\n",
       "      <td>2014-12-18</td>\n",
       "      <td>110058496</td>\n",
       "      <td>1</td>\n",
       "      <td>161</td>\n",
       "    </tr>\n",
       "    <tr>\n",
       "      <th>300329</th>\n",
       "      <td>2014-12-12</td>\n",
       "      <td>87658501</td>\n",
       "      <td>1</td>\n",
       "      <td>212</td>\n",
       "    </tr>\n",
       "    <tr>\n",
       "      <th>313130</th>\n",
       "      <td>2014-12-13</td>\n",
       "      <td>85994287</td>\n",
       "      <td>2</td>\n",
       "      <td>1</td>\n",
       "    </tr>\n",
       "    <tr>\n",
       "      <th>293802</th>\n",
       "      <td>2014-12-12</td>\n",
       "      <td>38915660</td>\n",
       "      <td>1</td>\n",
       "      <td>87</td>\n",
       "    </tr>\n",
       "    <tr>\n",
       "      <th>224580</th>\n",
       "      <td>2014-12-07</td>\n",
       "      <td>123963959</td>\n",
       "      <td>3</td>\n",
       "      <td>3</td>\n",
       "    </tr>\n",
       "    <tr>\n",
       "      <th>218121</th>\n",
       "      <td>2014-12-06</td>\n",
       "      <td>55305887</td>\n",
       "      <td>1</td>\n",
       "      <td>51</td>\n",
       "    </tr>\n",
       "    <tr>\n",
       "      <th>197641</th>\n",
       "      <td>2014-12-04</td>\n",
       "      <td>90414084</td>\n",
       "      <td>2</td>\n",
       "      <td>4</td>\n",
       "    </tr>\n",
       "    <tr>\n",
       "      <th>44511</th>\n",
       "      <td>2014-11-21</td>\n",
       "      <td>85004126</td>\n",
       "      <td>4</td>\n",
       "      <td>2</td>\n",
       "    </tr>\n",
       "    <tr>\n",
       "      <th>347688</th>\n",
       "      <td>2014-12-16</td>\n",
       "      <td>61068008</td>\n",
       "      <td>3</td>\n",
       "      <td>2</td>\n",
       "    </tr>\n",
       "    <tr>\n",
       "      <th>174498</th>\n",
       "      <td>2014-12-03</td>\n",
       "      <td>107471039</td>\n",
       "      <td>1</td>\n",
       "      <td>143</td>\n",
       "    </tr>\n",
       "  </tbody>\n",
       "</table>\n",
       "</div>"
      ],
      "text/plain": [
       "             date    user_id behavior_type  behavior_count\n",
       "364514 2014-12-18  110058496             1             161\n",
       "300329 2014-12-12   87658501             1             212\n",
       "313130 2014-12-13   85994287             2               1\n",
       "293802 2014-12-12   38915660             1              87\n",
       "224580 2014-12-07  123963959             3               3\n",
       "218121 2014-12-06   55305887             1              51\n",
       "197641 2014-12-04   90414084             2               4\n",
       "44511  2014-11-21   85004126             4               2\n",
       "347688 2014-12-16   61068008             3               2\n",
       "174498 2014-12-03  107471039             1             143"
      ]
     },
     "execution_count": 377,
     "metadata": {},
     "output_type": "execute_result"
    }
   ],
   "source": [
    "dt_arpu.sample(10)"
   ]
  },
  {
   "cell_type": "code",
   "execution_count": 363,
   "metadata": {},
   "outputs": [],
   "source": [
    "ARPU = dt_arpu.groupby(\"date\").apply(\n",
    "    lambda x: x[x.behavior_type == \"4\"].sum()/len(x.user_id.unique()))"
   ]
  },
  {
   "cell_type": "code",
   "execution_count": 376,
   "metadata": {
    "collapsed": true
   },
   "outputs": [
    {
     "data": {
      "text/html": [
       "<div>\n",
       "<style scoped>\n",
       "    .dataframe tbody tr th:only-of-type {\n",
       "        vertical-align: middle;\n",
       "    }\n",
       "\n",
       "    .dataframe tbody tr th {\n",
       "        vertical-align: top;\n",
       "    }\n",
       "\n",
       "    .dataframe thead th {\n",
       "        text-align: right;\n",
       "    }\n",
       "</style>\n",
       "<table border=\"1\" class=\"dataframe\">\n",
       "  <thead>\n",
       "    <tr style=\"text-align: right;\">\n",
       "      <th></th>\n",
       "      <th>behavior_count</th>\n",
       "    </tr>\n",
       "    <tr>\n",
       "      <th>date</th>\n",
       "      <th></th>\n",
       "    </tr>\n",
       "  </thead>\n",
       "  <tbody>\n",
       "    <tr>\n",
       "      <th>2014-11-18</th>\n",
       "      <td>0.588050</td>\n",
       "    </tr>\n",
       "    <tr>\n",
       "      <th>2014-11-19</th>\n",
       "      <td>0.574143</td>\n",
       "    </tr>\n",
       "    <tr>\n",
       "      <th>2014-11-20</th>\n",
       "      <td>0.546660</td>\n",
       "    </tr>\n",
       "    <tr>\n",
       "      <th>2014-11-21</th>\n",
       "      <td>0.481358</td>\n",
       "    </tr>\n",
       "    <tr>\n",
       "      <th>2014-11-22</th>\n",
       "      <td>0.577016</td>\n",
       "    </tr>\n",
       "    <tr>\n",
       "      <th>2014-11-23</th>\n",
       "      <td>0.525184</td>\n",
       "    </tr>\n",
       "    <tr>\n",
       "      <th>2014-11-24</th>\n",
       "      <td>0.526025</td>\n",
       "    </tr>\n",
       "    <tr>\n",
       "      <th>2014-11-25</th>\n",
       "      <td>0.545426</td>\n",
       "    </tr>\n",
       "    <tr>\n",
       "      <th>2014-11-26</th>\n",
       "      <td>0.562058</td>\n",
       "    </tr>\n",
       "    <tr>\n",
       "      <th>2014-11-27</th>\n",
       "      <td>0.577135</td>\n",
       "    </tr>\n",
       "    <tr>\n",
       "      <th>2014-11-28</th>\n",
       "      <td>0.519955</td>\n",
       "    </tr>\n",
       "    <tr>\n",
       "      <th>2014-11-29</th>\n",
       "      <td>0.515906</td>\n",
       "    </tr>\n",
       "    <tr>\n",
       "      <th>2014-11-30</th>\n",
       "      <td>0.566860</td>\n",
       "    </tr>\n",
       "    <tr>\n",
       "      <th>2014-12-01</th>\n",
       "      <td>0.597341</td>\n",
       "    </tr>\n",
       "    <tr>\n",
       "      <th>2014-12-02</th>\n",
       "      <td>0.552824</td>\n",
       "    </tr>\n",
       "    <tr>\n",
       "      <th>2014-12-03</th>\n",
       "      <td>0.589977</td>\n",
       "    </tr>\n",
       "    <tr>\n",
       "      <th>2014-12-04</th>\n",
       "      <td>0.565151</td>\n",
       "    </tr>\n",
       "    <tr>\n",
       "      <th>2014-12-05</th>\n",
       "      <td>0.521282</td>\n",
       "    </tr>\n",
       "    <tr>\n",
       "      <th>2014-12-06</th>\n",
       "      <td>0.508075</td>\n",
       "    </tr>\n",
       "    <tr>\n",
       "      <th>2014-12-07</th>\n",
       "      <td>0.507007</td>\n",
       "    </tr>\n",
       "    <tr>\n",
       "      <th>2014-12-08</th>\n",
       "      <td>0.520871</td>\n",
       "    </tr>\n",
       "    <tr>\n",
       "      <th>2014-12-09</th>\n",
       "      <td>0.525282</td>\n",
       "    </tr>\n",
       "    <tr>\n",
       "      <th>2014-12-10</th>\n",
       "      <td>0.483464</td>\n",
       "    </tr>\n",
       "    <tr>\n",
       "      <th>2014-12-11</th>\n",
       "      <td>0.467943</td>\n",
       "    </tr>\n",
       "    <tr>\n",
       "      <th>2014-12-12</th>\n",
       "      <td>1.975518</td>\n",
       "    </tr>\n",
       "    <tr>\n",
       "      <th>2014-12-13</th>\n",
       "      <td>0.513282</td>\n",
       "    </tr>\n",
       "    <tr>\n",
       "      <th>2014-12-14</th>\n",
       "      <td>0.522346</td>\n",
       "    </tr>\n",
       "    <tr>\n",
       "      <th>2014-12-15</th>\n",
       "      <td>0.554590</td>\n",
       "    </tr>\n",
       "    <tr>\n",
       "      <th>2014-12-16</th>\n",
       "      <td>0.560410</td>\n",
       "    </tr>\n",
       "    <tr>\n",
       "      <th>2014-12-17</th>\n",
       "      <td>0.544182</td>\n",
       "    </tr>\n",
       "    <tr>\n",
       "      <th>2014-12-18</th>\n",
       "      <td>0.544819</td>\n",
       "    </tr>\n",
       "  </tbody>\n",
       "</table>\n",
       "</div>"
      ],
      "text/plain": [
       "            behavior_count\n",
       "date                      \n",
       "2014-11-18        0.588050\n",
       "2014-11-19        0.574143\n",
       "2014-11-20        0.546660\n",
       "2014-11-21        0.481358\n",
       "2014-11-22        0.577016\n",
       "2014-11-23        0.525184\n",
       "2014-11-24        0.526025\n",
       "2014-11-25        0.545426\n",
       "2014-11-26        0.562058\n",
       "2014-11-27        0.577135\n",
       "2014-11-28        0.519955\n",
       "2014-11-29        0.515906\n",
       "2014-11-30        0.566860\n",
       "2014-12-01        0.597341\n",
       "2014-12-02        0.552824\n",
       "2014-12-03        0.589977\n",
       "2014-12-04        0.565151\n",
       "2014-12-05        0.521282\n",
       "2014-12-06        0.508075\n",
       "2014-12-07        0.507007\n",
       "2014-12-08        0.520871\n",
       "2014-12-09        0.525282\n",
       "2014-12-10        0.483464\n",
       "2014-12-11        0.467943\n",
       "2014-12-12        1.975518\n",
       "2014-12-13        0.513282\n",
       "2014-12-14        0.522346\n",
       "2014-12-15        0.554590\n",
       "2014-12-16        0.560410\n",
       "2014-12-17        0.544182\n",
       "2014-12-18        0.544819"
      ]
     },
     "execution_count": 376,
     "metadata": {},
     "output_type": "execute_result"
    }
   ],
   "source": [
    "ARPU"
   ]
  },
  {
   "cell_type": "code",
   "execution_count": 365,
   "metadata": {
    "collapsed": true
   },
   "outputs": [
    {
     "data": {
      "text/html": [
       "<div>\n",
       "<style scoped>\n",
       "    .dataframe tbody tr th:only-of-type {\n",
       "        vertical-align: middle;\n",
       "    }\n",
       "\n",
       "    .dataframe tbody tr th {\n",
       "        vertical-align: top;\n",
       "    }\n",
       "\n",
       "    .dataframe thead th {\n",
       "        text-align: right;\n",
       "    }\n",
       "</style>\n",
       "<table border=\"1\" class=\"dataframe\">\n",
       "  <thead>\n",
       "    <tr style=\"text-align: right;\">\n",
       "      <th></th>\n",
       "      <th>behavior_count</th>\n",
       "    </tr>\n",
       "  </thead>\n",
       "  <tbody>\n",
       "    <tr>\n",
       "      <th>count</th>\n",
       "      <td>31.000000</td>\n",
       "    </tr>\n",
       "    <tr>\n",
       "      <th>mean</th>\n",
       "      <td>0.585811</td>\n",
       "    </tr>\n",
       "    <tr>\n",
       "      <th>std</th>\n",
       "      <td>0.259981</td>\n",
       "    </tr>\n",
       "    <tr>\n",
       "      <th>min</th>\n",
       "      <td>0.467943</td>\n",
       "    </tr>\n",
       "    <tr>\n",
       "      <th>25%</th>\n",
       "      <td>0.520413</td>\n",
       "    </tr>\n",
       "    <tr>\n",
       "      <th>50%</th>\n",
       "      <td>0.544819</td>\n",
       "    </tr>\n",
       "    <tr>\n",
       "      <th>75%</th>\n",
       "      <td>0.566005</td>\n",
       "    </tr>\n",
       "    <tr>\n",
       "      <th>max</th>\n",
       "      <td>1.975518</td>\n",
       "    </tr>\n",
       "  </tbody>\n",
       "</table>\n",
       "</div>"
      ],
      "text/plain": [
       "       behavior_count\n",
       "count       31.000000\n",
       "mean         0.585811\n",
       "std          0.259981\n",
       "min          0.467943\n",
       "25%          0.520413\n",
       "50%          0.544819\n",
       "75%          0.566005\n",
       "max          1.975518"
      ]
     },
     "execution_count": 365,
     "metadata": {},
     "output_type": "execute_result"
    }
   ],
   "source": [
    "ARPU.describe()"
   ]
  },
  {
   "cell_type": "code",
   "execution_count": 366,
   "metadata": {
    "collapsed": true
   },
   "outputs": [
    {
     "data": {
      "text/plain": [
       "<matplotlib.axes._subplots.AxesSubplot at 0x1fa9ea20da0>"
      ]
     },
     "execution_count": 366,
     "metadata": {},
     "output_type": "execute_result"
    },
    {
     "data": {
      "image/png": "[encoded data removed]",
      "text/plain": [
       "<Figure size 432x288 with 1 Axes>"
      ]
     },
     "metadata": {},
     "output_type": "display_data"
    }
   ],
   "source": [
    "ARPU.plot()"
   ]
  },
  {
   "cell_type": "markdown",
   "metadata": {},
   "source": [
    "淘宝app活跃用户（有过操作行为的用户）在2014-11-18至2014-12-18这31天内，每天消费次数在0.5次上下波动，而在双十二期间到达峰值1，976，即平均每人双十二消费2次"
   ]
  },
  {
   "cell_type": "markdown",
   "metadata": {},
   "source": [
    "#### 付费率"
   ]
  },
  {
   "cell_type": "markdown",
   "metadata": {},
   "source": [
    "付费率 = 消费人数 / 总用户数"
   ]
  },
  {
   "cell_type": "markdown",
   "metadata": {},
   "source": [
    "从此份数据中我们不嫩得到淘宝总用户数，故使用活跃用户总数代替总用户数"
   ]
  },
  {
   "cell_type": "code",
   "execution_count": 382,
   "metadata": {},
   "outputs": [],
   "source": [
    "# 从此份数据中我们不嫩得到淘宝总用户数，故使用活跃用户总数代替总用户数\n",
    "rate_pay = dt_arpu.groupby(\"date\").apply(lambda x: x[\n",
    "    x.behavior_type == \"4\"].count() / len(x.user_id.unique())).iloc[:, 1]"
   ]
  },
  {
   "cell_type": "code",
   "execution_count": 384,
   "metadata": {},
   "outputs": [
    {
     "data": {
      "text/plain": [
       "<matplotlib.axes._subplots.AxesSubplot at 0x1fa9f2a90b8>"
      ]
     },
     "execution_count": 384,
     "metadata": {},
     "output_type": "execute_result"
    },
    {
     "data": {
      "image/png": "[encoded data removed]",
      "text/plain": [
       "<Figure size 432x288 with 1 Axes>"
      ]
     },
     "metadata": {},
     "output_type": "display_data"
    }
   ],
   "source": [
    "rate_pay.plot()"
   ]
  },
  {
   "cell_type": "code",
   "execution_count": 385,
   "metadata": {},
   "outputs": [
    {
     "data": {
      "text/plain": [
       "count    31.000000\n",
       "mean      0.241566\n",
       "std       0.050087\n",
       "min       0.210183\n",
       "25%       0.225660\n",
       "50%       0.235358\n",
       "75%       0.240304\n",
       "max       0.504793\n",
       "Name: user_id, dtype: float64"
      ]
     },
     "execution_count": 385,
     "metadata": {},
     "output_type": "execute_result"
    }
   ],
   "source": [
    "rate_pay.describe()"
   ]
  },
  {
   "cell_type": "markdown",
   "metadata": {},
   "source": [
    "在每天活跃用户群中，具有消费行为的占24%左右，双十二到达50%"
   ]
  },
  {
   "cell_type": "markdown",
   "metadata": {},
   "source": [
    "#### 同一时间段用户消费次数分布"
   ]
  },
  {
   "cell_type": "code",
   "execution_count": 387,
   "metadata": {},
   "outputs": [],
   "source": [
    "pay_f = dt[dt.behavior_type==\"4\"].groupby([\"user_id\",\"date\",\"hour\"])[\"behavior_count\"].sum()"
   ]
  },
  {
   "cell_type": "code",
   "execution_count": 388,
   "metadata": {},
   "outputs": [
    {
     "data": {
      "text/plain": [
       "<matplotlib.axes._subplots.AxesSubplot at 0x1fa9d526588>"
      ]
     },
     "execution_count": 388,
     "metadata": {},
     "output_type": "execute_result"
    },
    {
     "data": {
      "image/png": "[encoded data removed]",
      "text/plain": [
       "<Figure size 432x288 with 1 Axes>"
      ]
     },
     "metadata": {},
     "output_type": "display_data"
    }
   ],
   "source": [
    "sns.distplot(pay_f)"
   ]
  },
  {
   "cell_type": "code",
   "execution_count": 391,
   "metadata": {},
   "outputs": [
    {
     "data": {
      "text/plain": [
       "count    65223.000000\n",
       "mean         1.842985\n",
       "std          2.295531\n",
       "min          1.000000\n",
       "25%          1.000000\n",
       "50%          1.000000\n",
       "75%          2.000000\n",
       "max         97.000000\n",
       "Name: behavior_count, dtype: float64"
      ]
     },
     "execution_count": 391,
     "metadata": {},
     "output_type": "execute_result"
    }
   ],
   "source": [
    "pay_f.describe()"
   ]
  },
  {
   "cell_type": "code",
   "execution_count": 392,
   "metadata": {},
   "outputs": [
    {
     "data": {
      "text/plain": [
       "0    1\n",
       "dtype: int64"
      ]
     },
     "execution_count": 392,
     "metadata": {},
     "output_type": "execute_result"
    }
   ],
   "source": [
    "pay_f.mode()"
   ]
  },
  {
   "cell_type": "markdown",
   "metadata": {},
   "source": [
    "在同一小时段中，用户消费次数最多的为一次，75分位数为2次"
   ]
  },
  {
   "cell_type": "markdown",
   "metadata": {},
   "source": [
    "#### 复购情况分析\n",
    "复购情况：存在两天及以上有购买行为，一天多次购买算作一次\n",
    "\n",
    "复购率 = 又复购行为的用户数 / 有购买行为的用户数"
   ]
  },
  {
   "cell_type": "markdown",
   "metadata": {},
   "source": [
    "##### 复购率"
   ]
  },
  {
   "cell_type": "markdown",
   "metadata": {},
   "source": [
    "每个用户在不同日期购买总次数"
   ]
  },
  {
   "cell_type": "code",
   "execution_count": 395,
   "metadata": {},
   "outputs": [],
   "source": [
    "# 每个用户在不同日期购买总次数\n",
    "dt_rebuy = dt[dt.behavior_type == \"4\"].groupby('user_id')[\"date\"].apply(\n",
    "    lambda x: len(x.unique())).rename(\"rebuy_count\")"
   ]
  },
  {
   "cell_type": "code",
   "execution_count": 396,
   "metadata": {},
   "outputs": [
    {
     "data": {
      "text/plain": [
       "user_id\n",
       "107209058    22\n",
       "112806422     5\n",
       "61966309     18\n",
       "13103318     13\n",
       "95839581      7\n",
       "Name: rebuy_count, dtype: int64"
      ]
     },
     "execution_count": 396,
     "metadata": {},
     "output_type": "execute_result"
    }
   ],
   "source": [
    "dt_rebuy.sample(5)"
   ]
  },
  {
   "cell_type": "code",
   "execution_count": 397,
   "metadata": {},
   "outputs": [
    {
     "name": "stdout",
     "output_type": "stream",
     "text": [
      "复购率为：0.872\n"
     ]
    }
   ],
   "source": [
    "print(\"复购率为：%.3f\"%(dt_rebuy[dt_rebuy>=2].count()/dt_rebuy.count()))"
   ]
  },
  {
   "cell_type": "markdown",
   "metadata": {},
   "source": [
    "##### 复购时间分析"
   ]
  },
  {
   "cell_type": "markdown",
   "metadata": {},
   "source": [
    "计算不同时间，不同用户的购买次数"
   ]
  },
  {
   "cell_type": "code",
   "execution_count": 402,
   "metadata": {},
   "outputs": [],
   "source": [
    "# 计算不同时间(天），不同用户的购买次数\n",
    "dt_buy_d = dt[dt.behavior_type == \"4\"].groupby(\n",
    "    [\"user_id\", \"date\"])[\"behavior_count\"].count().reset_index()"
   ]
  },
  {
   "cell_type": "code",
   "execution_count": 404,
   "metadata": {},
   "outputs": [
    {
     "data": {
      "text/html": [
       "<div>\n",
       "<style scoped>\n",
       "    .dataframe tbody tr th:only-of-type {\n",
       "        vertical-align: middle;\n",
       "    }\n",
       "\n",
       "    .dataframe tbody tr th {\n",
       "        vertical-align: top;\n",
       "    }\n",
       "\n",
       "    .dataframe thead th {\n",
       "        text-align: right;\n",
       "    }\n",
       "</style>\n",
       "<table border=\"1\" class=\"dataframe\">\n",
       "  <thead>\n",
       "    <tr style=\"text-align: right;\">\n",
       "      <th></th>\n",
       "      <th>user_id</th>\n",
       "      <th>date</th>\n",
       "      <th>behavior_count</th>\n",
       "    </tr>\n",
       "  </thead>\n",
       "  <tbody>\n",
       "    <tr>\n",
       "      <th>39965</th>\n",
       "      <td>76314785</td>\n",
       "      <td>2014-11-20</td>\n",
       "      <td>1</td>\n",
       "    </tr>\n",
       "    <tr>\n",
       "      <th>20195</th>\n",
       "      <td>23376907</td>\n",
       "      <td>2014-11-20</td>\n",
       "      <td>1</td>\n",
       "    </tr>\n",
       "    <tr>\n",
       "      <th>12578</th>\n",
       "      <td>131701813</td>\n",
       "      <td>2014-12-15</td>\n",
       "      <td>1</td>\n",
       "    </tr>\n",
       "    <tr>\n",
       "      <th>12840</th>\n",
       "      <td>132231447</td>\n",
       "      <td>2014-12-15</td>\n",
       "      <td>2</td>\n",
       "    </tr>\n",
       "    <tr>\n",
       "      <th>8693</th>\n",
       "      <td>121756245</td>\n",
       "      <td>2014-12-05</td>\n",
       "      <td>1</td>\n",
       "    </tr>\n",
       "    <tr>\n",
       "      <th>46422</th>\n",
       "      <td>93127487</td>\n",
       "      <td>2014-11-19</td>\n",
       "      <td>2</td>\n",
       "    </tr>\n",
       "    <tr>\n",
       "      <th>32495</th>\n",
       "      <td>56592437</td>\n",
       "      <td>2014-11-19</td>\n",
       "      <td>1</td>\n",
       "    </tr>\n",
       "    <tr>\n",
       "      <th>5923</th>\n",
       "      <td>114971408</td>\n",
       "      <td>2014-11-28</td>\n",
       "      <td>2</td>\n",
       "    </tr>\n",
       "    <tr>\n",
       "      <th>45646</th>\n",
       "      <td>91087067</td>\n",
       "      <td>2014-12-17</td>\n",
       "      <td>1</td>\n",
       "    </tr>\n",
       "    <tr>\n",
       "      <th>27333</th>\n",
       "      <td>42208524</td>\n",
       "      <td>2014-12-13</td>\n",
       "      <td>1</td>\n",
       "    </tr>\n",
       "  </tbody>\n",
       "</table>\n",
       "</div>"
      ],
      "text/plain": [
       "         user_id       date  behavior_count\n",
       "39965   76314785 2014-11-20               1\n",
       "20195   23376907 2014-11-20               1\n",
       "12578  131701813 2014-12-15               1\n",
       "12840  132231447 2014-12-15               2\n",
       "8693   121756245 2014-12-05               1\n",
       "46422   93127487 2014-11-19               2\n",
       "32495   56592437 2014-11-19               1\n",
       "5923   114971408 2014-11-28               2\n",
       "45646   91087067 2014-12-17               1\n",
       "27333   42208524 2014-12-13               1"
      ]
     },
     "execution_count": 404,
     "metadata": {},
     "output_type": "execute_result"
    }
   ],
   "source": [
    "dt_buy_d.sample(10)"
   ]
  },
  {
   "cell_type": "markdown",
   "metadata": {},
   "source": [
    "不同用户购物时间间隔"
   ]
  },
  {
   "cell_type": "code",
   "execution_count": 415,
   "metadata": {},
   "outputs": [],
   "source": [
    "# 不同用户购物时间间隔\n",
    "dt_buy_d[\"d_diff\"] = dt_buy_d.groupby(\"user_id\").date.apply(\n",
    "    lambda x: x.sort_values().diff(1)).map(lambda x:x.days)"
   ]
  },
  {
   "cell_type": "code",
   "execution_count": 417,
   "metadata": {},
   "outputs": [
    {
     "data": {
      "text/html": [
       "<div>\n",
       "<style scoped>\n",
       "    .dataframe tbody tr th:only-of-type {\n",
       "        vertical-align: middle;\n",
       "    }\n",
       "\n",
       "    .dataframe tbody tr th {\n",
       "        vertical-align: top;\n",
       "    }\n",
       "\n",
       "    .dataframe thead th {\n",
       "        text-align: right;\n",
       "    }\n",
       "</style>\n",
       "<table border=\"1\" class=\"dataframe\">\n",
       "  <thead>\n",
       "    <tr style=\"text-align: right;\">\n",
       "      <th></th>\n",
       "      <th>behavior_count</th>\n",
       "      <th>d_diff</th>\n",
       "    </tr>\n",
       "  </thead>\n",
       "  <tbody>\n",
       "    <tr>\n",
       "      <th>count</th>\n",
       "      <td>49201.000000</td>\n",
       "      <td>40315.000000</td>\n",
       "    </tr>\n",
       "    <tr>\n",
       "      <th>mean</th>\n",
       "      <td>2.443141</td>\n",
       "      <td>3.732333</td>\n",
       "    </tr>\n",
       "    <tr>\n",
       "      <th>std</th>\n",
       "      <td>3.307288</td>\n",
       "      <td>3.858599</td>\n",
       "    </tr>\n",
       "    <tr>\n",
       "      <th>min</th>\n",
       "      <td>1.000000</td>\n",
       "      <td>1.000000</td>\n",
       "    </tr>\n",
       "    <tr>\n",
       "      <th>25%</th>\n",
       "      <td>1.000000</td>\n",
       "      <td>1.000000</td>\n",
       "    </tr>\n",
       "    <tr>\n",
       "      <th>50%</th>\n",
       "      <td>1.000000</td>\n",
       "      <td>2.000000</td>\n",
       "    </tr>\n",
       "    <tr>\n",
       "      <th>75%</th>\n",
       "      <td>3.000000</td>\n",
       "      <td>5.000000</td>\n",
       "    </tr>\n",
       "    <tr>\n",
       "      <th>max</th>\n",
       "      <td>185.000000</td>\n",
       "      <td>30.000000</td>\n",
       "    </tr>\n",
       "  </tbody>\n",
       "</table>\n",
       "</div>"
      ],
      "text/plain": [
       "       behavior_count        d_diff\n",
       "count    49201.000000  40315.000000\n",
       "mean         2.443141      3.732333\n",
       "std          3.307288      3.858599\n",
       "min          1.000000      1.000000\n",
       "25%          1.000000      1.000000\n",
       "50%          1.000000      2.000000\n",
       "75%          3.000000      5.000000\n",
       "max        185.000000     30.000000"
      ]
     },
     "execution_count": 417,
     "metadata": {},
     "output_type": "execute_result"
    }
   ],
   "source": [
    "dt_buy_d.describe()"
   ]
  },
  {
   "cell_type": "code",
   "execution_count": 425,
   "metadata": {},
   "outputs": [
    {
     "data": {
      "text/plain": [
       "Text(0, 0.5, 'count')"
      ]
     },
     "execution_count": 425,
     "metadata": {},
     "output_type": "execute_result"
    },
    {
     "data": {
      "image/png": "[encoded data removed]",
      "text/plain": [
       "<Figure size 432x288 with 1 Axes>"
      ]
     },
     "metadata": {},
     "output_type": "display_data"
    }
   ],
   "source": [
    "# 绘图\n",
    "dt_buy_d.iloc[:,-1].dropna().value_counts().plot(kind=\"bar\")\n",
    "plt.xlabel(\"day_diff\")\n",
    "plt.ylabel(\"count\")"
   ]
  },
  {
   "cell_type": "markdown",
   "metadata": {},
   "source": [
    "不同用户平均复购时间"
   ]
  },
  {
   "cell_type": "code",
   "execution_count": 436,
   "metadata": {},
   "outputs": [
    {
     "data": {
      "text/plain": [
       "<matplotlib.axes._subplots.AxesSubplot at 0x1fae9d95c88>"
      ]
     },
     "execution_count": 436,
     "metadata": {},
     "output_type": "execute_result"
    },
    {
     "data": {
      "image/png": "[encoded data removed]",
      "text/plain": [
       "<Figure size 432x288 with 1 Axes>"
      ]
     },
     "metadata": {},
     "output_type": "display_data"
    }
   ],
   "source": [
    "# 不同用户平均复购时间\n",
    "sns.distplot(dt_buy_d.groupby(\"user_id\").d_diff.mean().dropna())"
   ]
  },
  {
   "cell_type": "markdown",
   "metadata": {},
   "source": [
    "计算分位数"
   ]
  },
  {
   "cell_type": "code",
   "execution_count": 440,
   "metadata": {},
   "outputs": [
    {
     "data": {
      "text/plain": [
       "0.0     1.0\n",
       "0.1     1.0\n",
       "0.2     1.0\n",
       "0.3     1.0\n",
       "0.4     2.0\n",
       "0.5     2.0\n",
       "0.6     3.0\n",
       "0.7     4.0\n",
       "0.8     6.0\n",
       "0.9     9.0\n",
       "1.0    30.0\n",
       "Name: d_diff, dtype: float64"
      ]
     },
     "execution_count": 440,
     "metadata": {},
     "output_type": "execute_result"
    }
   ],
   "source": [
    "dt_buy_d.quantile(np.linspace(0,1,11)).iloc[:,1]"
   ]
  },
  {
   "cell_type": "markdown",
   "metadata": {},
   "source": [
    "80%的淘宝用户复购复购时间在6天以内"
   ]
  },
  {
   "cell_type": "markdown",
   "metadata": {},
   "source": [
    "### 漏斗流失分析"
   ]
  },
  {
   "cell_type": "code",
   "execution_count": 442,
   "metadata": {},
   "outputs": [],
   "source": [
    "dt_c = dt.groupby(\"behavior_type\").size()"
   ]
  },
  {
   "cell_type": "code",
   "execution_count": 443,
   "metadata": {},
   "outputs": [
    {
     "data": {
      "text/plain": [
       "behavior_type\n",
       "1    11550581\n",
       "2      242556\n",
       "3      343564\n",
       "4      120205\n",
       "dtype: int64"
      ]
     },
     "execution_count": 443,
     "metadata": {},
     "output_type": "execute_result"
    }
   ],
   "source": [
    "dt_c"
   ]
  },
  {
   "cell_type": "code",
   "execution_count": 449,
   "metadata": {},
   "outputs": [
    {
     "name": "stdout",
     "output_type": "stream",
     "text": [
      "从点击到收藏流失率为97.900\n"
     ]
    }
   ],
   "source": [
    "print(\"从点击到收藏流失率为%.3f\" % ((dt_c[0] - dt_c[1]) * 100 / dt_c[0]))"
   ]
  },
  {
   "cell_type": "code",
   "execution_count": 450,
   "metadata": {},
   "outputs": [
    {
     "name": "stdout",
     "output_type": "stream",
     "text": [
      "从点击到加购物车流失率为97.026\n"
     ]
    }
   ],
   "source": [
    "print(\"从点击到加购物车流失率为%.3f\" % ((dt_c[0] - dt_c[2]) * 100 / dt_c[0]))"
   ]
  },
  {
   "cell_type": "code",
   "execution_count": 451,
   "metadata": {},
   "outputs": [
    {
     "name": "stdout",
     "output_type": "stream",
     "text": [
      "从加购物车到支付流失率为65.012\n"
     ]
    }
   ],
   "source": [
    "print(\"从加购物车到支付流失率为%.3f\" % ((dt_c[2] - dt_c[3]) * 100 / dt_c[2]))"
   ]
  },
  {
   "cell_type": "code",
   "execution_count": 452,
   "metadata": {},
   "outputs": [
    {
     "name": "stdout",
     "output_type": "stream",
     "text": [
      "从加收藏到支付流失率为35.612\n"
     ]
    }
   ],
   "source": [
    "print(\"从加收藏到支付流失率为%.3f\" % ((dt_c[1] - dt_c[3]) * 100 / dt_c[2]))"
   ]
  },
  {
   "cell_type": "markdown",
   "metadata": {},
   "source": [
    "### 用户价值RFM模型分析"
   ]
  },
  {
   "cell_type": "markdown",
   "metadata": {},
   "source": [
    "因数据集中无消费金额相关信息，因此此处仅对R、F两方面进行用户价值分析"
   ]
  },
  {
   "cell_type": "markdown",
   "metadata": {},
   "source": [
    "每位用户最近的购买时间"
   ]
  },
  {
   "cell_type": "code",
   "execution_count": 457,
   "metadata": {},
   "outputs": [],
   "source": [
    "# 参考时间\n",
    "from datetime import datetime\n",
    "datenow = datetime(2014, 12, 19)"
   ]
  },
  {
   "cell_type": "code",
   "execution_count": 469,
   "metadata": {
    "scrolled": true
   },
   "outputs": [],
   "source": [
    "# 每位用户最近的购买时间\n",
    "recently_pay_time =  dt[dt.behavior_type == \"4\"].groupby(\"user_id\").date.apply(\n",
    "    lambda x: datenow - x.sort_values().iloc[-1])"
   ]
  },
  {
   "cell_type": "code",
   "execution_count": 474,
   "metadata": {},
   "outputs": [],
   "source": [
    "recently_pay_time = recently_pay_time.rename(\"recent\")"
   ]
  },
  {
   "cell_type": "code",
   "execution_count": 485,
   "metadata": {},
   "outputs": [],
   "source": [
    "recently_pay_time = recently_pay_time.reset_index()"
   ]
  },
  {
   "cell_type": "code",
   "execution_count": 488,
   "metadata": {},
   "outputs": [],
   "source": [
    "recently_pay_time.recent = recently_pay_time.recent.map(lambda x: x.days)"
   ]
  },
  {
   "cell_type": "code",
   "execution_count": 490,
   "metadata": {},
   "outputs": [
    {
     "data": {
      "text/html": [
       "<div>\n",
       "<style scoped>\n",
       "    .dataframe tbody tr th:only-of-type {\n",
       "        vertical-align: middle;\n",
       "    }\n",
       "\n",
       "    .dataframe tbody tr th {\n",
       "        vertical-align: top;\n",
       "    }\n",
       "\n",
       "    .dataframe thead th {\n",
       "        text-align: right;\n",
       "    }\n",
       "</style>\n",
       "<table border=\"1\" class=\"dataframe\">\n",
       "  <thead>\n",
       "    <tr style=\"text-align: right;\">\n",
       "      <th></th>\n",
       "      <th>user_id</th>\n",
       "      <th>recent</th>\n",
       "    </tr>\n",
       "  </thead>\n",
       "  <tbody>\n",
       "    <tr>\n",
       "      <th>0</th>\n",
       "      <td>100001878</td>\n",
       "      <td>1</td>\n",
       "    </tr>\n",
       "    <tr>\n",
       "      <th>1</th>\n",
       "      <td>100011562</td>\n",
       "      <td>3</td>\n",
       "    </tr>\n",
       "    <tr>\n",
       "      <th>2</th>\n",
       "      <td>100012968</td>\n",
       "      <td>1</td>\n",
       "    </tr>\n",
       "    <tr>\n",
       "      <th>3</th>\n",
       "      <td>100014060</td>\n",
       "      <td>1</td>\n",
       "    </tr>\n",
       "    <tr>\n",
       "      <th>4</th>\n",
       "      <td>100024529</td>\n",
       "      <td>3</td>\n",
       "    </tr>\n",
       "  </tbody>\n",
       "</table>\n",
       "</div>"
      ],
      "text/plain": [
       "     user_id  recent\n",
       "0  100001878       1\n",
       "1  100011562       3\n",
       "2  100012968       1\n",
       "3  100014060       1\n",
       "4  100024529       3"
      ]
     },
     "execution_count": 490,
     "metadata": {},
     "output_type": "execute_result"
    }
   ],
   "source": [
    "recently_pay_time.head(5)"
   ]
  },
  {
   "cell_type": "markdown",
   "metadata": {},
   "source": [
    "每位用户消费频率"
   ]
  },
  {
   "cell_type": "code",
   "execution_count": 491,
   "metadata": {},
   "outputs": [],
   "source": [
    "# 每位用户消费频率\n",
    "buy_freq = dt[dt.behavior_type == \"4\"].groupby(\"user_id\").date.count().rename(\n",
    "    \"freq\").reset_index()"
   ]
  },
  {
   "cell_type": "code",
   "execution_count": 495,
   "metadata": {},
   "outputs": [
    {
     "data": {
      "text/html": [
       "<div>\n",
       "<style scoped>\n",
       "    .dataframe tbody tr th:only-of-type {\n",
       "        vertical-align: middle;\n",
       "    }\n",
       "\n",
       "    .dataframe tbody tr th {\n",
       "        vertical-align: top;\n",
       "    }\n",
       "\n",
       "    .dataframe thead th {\n",
       "        text-align: right;\n",
       "    }\n",
       "</style>\n",
       "<table border=\"1\" class=\"dataframe\">\n",
       "  <thead>\n",
       "    <tr style=\"text-align: right;\">\n",
       "      <th></th>\n",
       "      <th>user_id</th>\n",
       "      <th>freq</th>\n",
       "    </tr>\n",
       "  </thead>\n",
       "  <tbody>\n",
       "    <tr>\n",
       "      <th>0</th>\n",
       "      <td>100001878</td>\n",
       "      <td>36</td>\n",
       "    </tr>\n",
       "    <tr>\n",
       "      <th>1</th>\n",
       "      <td>100011562</td>\n",
       "      <td>3</td>\n",
       "    </tr>\n",
       "    <tr>\n",
       "      <th>2</th>\n",
       "      <td>100012968</td>\n",
       "      <td>15</td>\n",
       "    </tr>\n",
       "    <tr>\n",
       "      <th>3</th>\n",
       "      <td>100014060</td>\n",
       "      <td>24</td>\n",
       "    </tr>\n",
       "    <tr>\n",
       "      <th>4</th>\n",
       "      <td>100024529</td>\n",
       "      <td>26</td>\n",
       "    </tr>\n",
       "  </tbody>\n",
       "</table>\n",
       "</div>"
      ],
      "text/plain": [
       "     user_id  freq\n",
       "0  100001878    36\n",
       "1  100011562     3\n",
       "2  100012968    15\n",
       "3  100014060    24\n",
       "4  100024529    26"
      ]
     },
     "execution_count": 495,
     "metadata": {},
     "output_type": "execute_result"
    }
   ],
   "source": [
    "buy_freq.head()"
   ]
  },
  {
   "cell_type": "markdown",
   "metadata": {},
   "source": [
    "因为只有31天的数据，所以这儿只基于等频分段，简单的将R、F分为两个等级"
   ]
  },
  {
   "cell_type": "code",
   "execution_count": 502,
   "metadata": {},
   "outputs": [],
   "source": [
    "# 因为只有31天的数据，所以这儿只基于等频分段，简单的将R、F分为两个等级(分数越高越好)\n",
    "RFM = pd.merge(recently_pay_time,buy_freq,on=\"user_id\",how=\"outer\")\n",
    "RFM[\"R_value\"] = pd.qcut(RFM[\"recent\"],2,labels=[\"2\",\"1\"])\n",
    "RFM[\"F_value\"] = pd.qcut(RFM[\"freq\"],2,labels=[\"1\",\"2\"])\n",
    "RFM[\"RFM\"] = RFM[\"R_value\"].str.cat(RFM[\"F_value\"])"
   ]
  },
  {
   "cell_type": "code",
   "execution_count": 504,
   "metadata": {},
   "outputs": [
    {
     "data": {
      "text/html": [
       "<div>\n",
       "<style scoped>\n",
       "    .dataframe tbody tr th:only-of-type {\n",
       "        vertical-align: middle;\n",
       "    }\n",
       "\n",
       "    .dataframe tbody tr th {\n",
       "        vertical-align: top;\n",
       "    }\n",
       "\n",
       "    .dataframe thead th {\n",
       "        text-align: right;\n",
       "    }\n",
       "</style>\n",
       "<table border=\"1\" class=\"dataframe\">\n",
       "  <thead>\n",
       "    <tr style=\"text-align: right;\">\n",
       "      <th></th>\n",
       "      <th>user_id</th>\n",
       "      <th>recent</th>\n",
       "      <th>freq</th>\n",
       "      <th>R_value</th>\n",
       "      <th>F_value</th>\n",
       "      <th>RFM</th>\n",
       "    </tr>\n",
       "  </thead>\n",
       "  <tbody>\n",
       "    <tr>\n",
       "      <th>0</th>\n",
       "      <td>100001878</td>\n",
       "      <td>1</td>\n",
       "      <td>36</td>\n",
       "      <td>2</td>\n",
       "      <td>2</td>\n",
       "      <td>22</td>\n",
       "    </tr>\n",
       "    <tr>\n",
       "      <th>1</th>\n",
       "      <td>100011562</td>\n",
       "      <td>3</td>\n",
       "      <td>3</td>\n",
       "      <td>2</td>\n",
       "      <td>1</td>\n",
       "      <td>21</td>\n",
       "    </tr>\n",
       "    <tr>\n",
       "      <th>2</th>\n",
       "      <td>100012968</td>\n",
       "      <td>1</td>\n",
       "      <td>15</td>\n",
       "      <td>2</td>\n",
       "      <td>2</td>\n",
       "      <td>22</td>\n",
       "    </tr>\n",
       "    <tr>\n",
       "      <th>3</th>\n",
       "      <td>100014060</td>\n",
       "      <td>1</td>\n",
       "      <td>24</td>\n",
       "      <td>2</td>\n",
       "      <td>2</td>\n",
       "      <td>22</td>\n",
       "    </tr>\n",
       "    <tr>\n",
       "      <th>4</th>\n",
       "      <td>100024529</td>\n",
       "      <td>3</td>\n",
       "      <td>26</td>\n",
       "      <td>2</td>\n",
       "      <td>2</td>\n",
       "      <td>22</td>\n",
       "    </tr>\n",
       "  </tbody>\n",
       "</table>\n",
       "</div>"
      ],
      "text/plain": [
       "     user_id  recent  freq R_value F_value RFM\n",
       "0  100001878       1    36       2       2  22\n",
       "1  100011562       3     3       2       1  21\n",
       "2  100012968       1    15       2       2  22\n",
       "3  100014060       1    24       2       2  22\n",
       "4  100024529       3    26       2       2  22"
      ]
     },
     "execution_count": 504,
     "metadata": {},
     "output_type": "execute_result"
    }
   ],
   "source": [
    "RFM.head()"
   ]
  },
  {
   "cell_type": "markdown",
   "metadata": {},
   "source": [
    "通过RFM对用户进行分组后，可对不同组别的客户拟制实施不同的营销方式"
   ]
  },
  {
   "cell_type": "markdown",
   "metadata": {},
   "source": [
    "## 总结"
   ]
  },
  {
   "cell_type": "markdown",
   "metadata": {},
   "source": [
    "### pv、uv分析得知：\n",
    "\n",
    "#### 日访问\n",
    "- 访问量与访问用户间，表现为强相关性\n",
    "- 双十二期间，pv与uv同时到达峰值\n",
    "#### 小时访问\n",
    "- PV与UV呈相同的变化趋势，0-5点呈下降趋势，5-10逐渐增长，21时附近达到峰值，18点-0点为淘宝app用户活跃时间段\n",
    "#### 不同行为类型用户PV分析\n",
    "我们能够看到在点击到加购物车和点击到收藏行为间的流失率基本稳定在97.7%左右；在10-15日期间从收藏到支付与从加购物车到支付的流失率较低。\n",
    "\n",
    "### 消费行为分析\n",
    "- 用户平均购买次数为13.5次，标准差19.6，具有一定波动性。中位数是8次，75分位数是17次，说明用户购买次数大部分都在20次以下。而最大值是809次，这差别有点大。\n",
    "- 一般情况，消费类型的数据分布，大部分呈现的是长尾形态；绝大多数用户是低频次消费客群，但用户贡献率集中在少数分群里，符合二八法则。\n",
    "#### ARPPU分析：\n",
    "- 绝大部分消费客户每天消费次数在3次以内，双十二期间达到峰值\n",
    "#### 日ARPU情况分析\n",
    "- 淘宝app活跃用户（有过操作行为的用户）在2014-11-18至2014-12-18这31天内，每天消费次数在0.5次上下波动，而在双十二期间到达峰值1，976，即平均每人双十二消费2次\n",
    "### 付费情况\n",
    "- 在每天活跃用户群中，具有消费行为的占24%左右，双十二到达50%\n",
    "- 在同一小时段中，用户消费次数最多的为一次，75分位数为2次\n",
    "### 复购情况\n",
    "- 80%的淘宝用户复购复购时间在6天以内\n",
    "- 复购率为：0.872\n",
    "### 漏斗流失分析\n",
    "- 从点击到收藏流失率为97.900\n",
    "- 从点击到加购物车流失率为97.026\n",
    "- 从加购物车到支付流失率为65.012\n",
    "- 从加收藏到支付流失率为35.612\n",
    "### RFM\n",
    "- 我们通过RFM将用户分为了多组，可对不同组别的客户拟制实施不同的营销方式\n"
   ]
  },
  {
   "cell_type": "code",
   "execution_count": null,
   "metadata": {},
   "outputs": [],
   "source": []
  }
 ],
 "metadata": {
  "kernelspec": {
   "display_name": "Python 3",
   "language": "python",
   "name": "python3"
  },
  "language_info": {
   "codemirror_mode": {
    "name": "ipython",
    "version": 3
   },
   "file_extension": ".py",
   "mimetype": "text/x-python",
   "name": "python",
   "nbconvert_exporter": "python",
   "pygments_lexer": "ipython3",
   "version": "3.7.3"
  },
  "toc": {
   "base_numbering": 1,
   "nav_menu": {},
   "number_sections": true,
   "sideBar": true,
   "skip_h1_title": false,
   "title_cell": "Table of Contents",
   "title_sidebar": "Contents",
   "toc_cell": false,
   "toc_position": {
    "height": "calc(100% - 180px)",
    "left": "10px",
    "top": "150px",
    "width": "205.063px"
   },
   "toc_section_display": true,
   "toc_window_display": true
  }
 },
 "nbformat": 4,
 "nbformat_minor": 2
}
